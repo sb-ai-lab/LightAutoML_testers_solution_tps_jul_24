{
 "cells": [
  {
   "cell_type": "code",
   "execution_count": 1,
   "id": "61083189",
   "metadata": {},
   "outputs": [],
   "source": [
    "import os\n",
    "os.environ[\"CUDA_DEVICE_ORDER\"]=\"PCI_BUS_ID\"   # see issue #152\n",
    "os.environ[\"CUDA_VISIBLE_DEVICES\"]=\"0\""
   ]
  },
  {
   "cell_type": "code",
   "execution_count": 2,
   "id": "9ea4d624",
   "metadata": {
    "execution": {
     "iopub.execute_input": "2023-11-15T13:51:02.113786Z",
     "iopub.status.busy": "2023-11-15T13:51:02.113289Z",
     "iopub.status.idle": "2023-11-15T13:52:02.602973Z",
     "shell.execute_reply": "2023-11-15T13:52:02.601369Z"
    },
    "papermill": {
     "duration": 60.516835,
     "end_time": "2023-11-15T13:52:02.606867",
     "exception": false,
     "start_time": "2023-11-15T13:51:02.090032",
     "status": "completed"
    },
    "tags": []
   },
   "outputs": [
    {
     "name": "stdout",
     "output_type": "stream",
     "text": [
      "'nlp' extra dependecy package 'gensim' isn't installed. Look at README.md in repo 'LightAutoML' for installation instructions.\n",
      "'nlp' extra dependecy package 'gensim' isn't installed. Look at README.md in repo 'LightAutoML' for installation instructions.\n"
     ]
    },
    {
     "name": "stderr",
     "output_type": "stream",
     "text": [
      "/home/user/conda/lib/python3.9/site-packages/lightautoml/transformers/text.py:22: UserWarning: 'gensim' - package isn't installed\n",
      "  warnings.warn(\"'gensim' - package isn't installed\")\n"
     ]
    }
   ],
   "source": [
    "# Essential DS libraries\n",
    "import numpy as np\n",
    "import pandas as pd\n",
    "from sklearn.metrics import median_absolute_error, accuracy_score,roc_auc_score\n",
    "from sklearn.model_selection import train_test_split\n",
    "import torch\n",
    "import torch.nn as nn\n",
    "from torch.optim.lr_scheduler import ReduceLROnPlateau\n",
    "\n",
    "# LightAutoML presets, task and report generation\n",
    "from lightautoml.automl.presets.tabular_presets import TabularAutoML\n",
    "from lightautoml.tasks import Task"
   ]
  },
  {
   "cell_type": "code",
   "execution_count": 3,
   "id": "86932369",
   "metadata": {
    "execution": {
     "iopub.execute_input": "2023-11-15T13:52:02.651810Z",
     "iopub.status.busy": "2023-11-15T13:52:02.650726Z",
     "iopub.status.idle": "2023-11-15T13:52:02.665460Z",
     "shell.execute_reply": "2023-11-15T13:52:02.663739Z"
    },
    "papermill": {
     "duration": 0.040637,
     "end_time": "2023-11-15T13:52:02.668632",
     "exception": false,
     "start_time": "2023-11-15T13:52:02.627995",
     "status": "completed"
    },
    "tags": []
   },
   "outputs": [],
   "source": [
    "# utils\n",
    "\n",
    "def map_class(x, task, reader):\n",
    "    if task.name == 'multiclass':\n",
    "        return reader[x]\n",
    "    else:\n",
    "        return x\n",
    "\n",
    "mapped = np.vectorize(map_class)\n",
    "\n",
    "def score(task, y_true, y_pred):\n",
    "    if task.name == 'binary':\n",
    "        return roc_auc_score(y_true, y_pred)\n",
    "    elif task.name == 'multiclass':\n",
    "        return accuracy_score(y_true, np.argmax(y_pred, 1))\n",
    "    elif task.name == 'reg' or task.name == 'multi:reg':\n",
    "        return median_absolute_error(y_true, y_pred)\n",
    "    else:\n",
    "        raise 'Task is not correct.'\n",
    "        \n",
    "def take_pred_from_task(pred, task):\n",
    "    if task.name == 'binary' or task.name == 'reg':\n",
    "        return pred[:, 0]\n",
    "    elif task.name == 'multiclass' or task.name == 'multi:reg':\n",
    "        return pred\n",
    "    else:\n",
    "        raise 'Task is not correct.'\n",
    "        \n",
    "def use_plr(USE_PLR):\n",
    "    if USE_PLR:\n",
    "        return \"plr\"\n",
    "    else:\n",
    "        return \"cont\""
   ]
  },
  {
   "cell_type": "markdown",
   "id": "209fda6c",
   "metadata": {
    "papermill": {
     "duration": 0.021107,
     "end_time": "2023-11-15T13:52:02.711353",
     "exception": false,
     "start_time": "2023-11-15T13:52:02.690246",
     "status": "completed"
    },
    "tags": []
   },
   "source": [
    "### 0.2 Constants\n",
    "\n",
    "Here we setup the constants to use in the kernel:\n",
    "- `N_THREADS` - number of vCPUs for LightAutoML model creation\n",
    "- `N_FOLDS` - number of folds in LightAutoML inner CV\n",
    "- `RANDOM_STATE` - random seed for better reproducibility\n",
    "- `TEST_SIZE` - houldout data part size \n",
    "- `TIMEOUT` - limit in seconds for model to train\n",
    "- `TARGET_NAME` - target column name in dataset\n",
    "- `TASK` - task name, 'reg', 'binary', 'multiclass', 'multi:reg'\n",
    "- `ALGOS_FOR_BLEND` - algorithms used in blending\n",
    "- `USE_PLR` - if True use PLR embedder for continuous features, else Basic Embedder\n",
    "- `TRAIN_BS` - train batch size"
   ]
  },
  {
   "cell_type": "code",
   "execution_count": 4,
   "id": "9b1257e6",
   "metadata": {},
   "outputs": [],
   "source": [
    "RANDOM_STATE = 42\n",
    "N_THREADS = 16"
   ]
  },
  {
   "cell_type": "code",
   "execution_count": 5,
   "id": "ab63317c",
   "metadata": {
    "execution": {
     "iopub.execute_input": "2023-11-15T13:52:02.759937Z",
     "iopub.status.busy": "2023-11-15T13:52:02.758894Z",
     "iopub.status.idle": "2023-11-15T13:52:02.772003Z",
     "shell.execute_reply": "2023-11-15T13:52:02.770871Z"
    },
    "papermill": {
     "duration": 0.040349,
     "end_time": "2023-11-15T13:52:02.775425",
     "exception": false,
     "start_time": "2023-11-15T13:52:02.735076",
     "status": "completed"
    },
    "tags": []
   },
   "outputs": [],
   "source": [
    "np.random.seed(RANDOM_STATE)\n",
    "torch.set_num_threads(N_THREADS)"
   ]
  },
  {
   "cell_type": "markdown",
   "id": "8e188954",
   "metadata": {
    "papermill": {
     "duration": 0.023074,
     "end_time": "2023-11-15T13:52:02.822731",
     "exception": false,
     "start_time": "2023-11-15T13:52:02.799657",
     "status": "completed"
    },
    "tags": []
   },
   "source": [
    "### 0.3 Data loading"
   ]
  },
  {
   "cell_type": "code",
   "execution_count": 6,
   "id": "8152835d",
   "metadata": {
    "execution": {
     "iopub.execute_input": "2023-11-15T13:52:02.866727Z",
     "iopub.status.busy": "2023-11-15T13:52:02.866200Z",
     "iopub.status.idle": "2023-11-15T13:52:03.377899Z",
     "shell.execute_reply": "2023-11-15T13:52:03.376300Z"
    },
    "papermill": {
     "duration": 0.537306,
     "end_time": "2023-11-15T13:52:03.381055",
     "exception": false,
     "start_time": "2023-11-15T13:52:02.843749",
     "status": "completed"
    },
    "tags": []
   },
   "outputs": [],
   "source": [
    "train = pd.read_csv('../input/playground-series-s4e7/train.csv')\n",
    "test = pd.read_csv('../input/playground-series-s4e7/test.csv')"
   ]
  },
  {
   "cell_type": "code",
   "execution_count": 7,
   "id": "776c9a03",
   "metadata": {},
   "outputs": [],
   "source": [
    "#X_train, X_val = train_test_split(train, test_size=0.2, random_state=42, shuffle=True, stratify=train.Response)"
   ]
  },
  {
   "cell_type": "code",
   "execution_count": 12,
   "id": "6a67dc48",
   "metadata": {
    "_kg_hide-output": true,
    "execution": {
     "iopub.execute_input": "2023-11-15T13:52:28.576701Z",
     "iopub.status.busy": "2023-11-15T13:52:28.575802Z",
     "iopub.status.idle": "2023-11-15T14:01:34.509384Z",
     "shell.execute_reply": "2023-11-15T14:01:34.507879Z"
    },
    "papermill": {
     "duration": 545.963332,
     "end_time": "2023-11-15T14:01:34.512994",
     "exception": false,
     "start_time": "2023-11-15T13:52:28.549662",
     "status": "completed"
    },
    "scrolled": true,
    "tags": []
   },
   "outputs": [
    {
     "name": "stdout",
     "output_type": "stream",
     "text": [
      "[23:04:47] Stdout logging level is DEBUG.\n",
      "[23:04:47] Task: binary\n",
      "\n",
      "[23:04:47] Start automl preset with listed constraints:\n",
      "[23:04:47] - time: 2160000.00 seconds\n",
      "[23:04:47] - CPU: 16 cores\n",
      "[23:04:47] - memory: 16 GB\n",
      "\n",
      "[23:04:47] \u001b[1mTrain data shape: (11504798, 12)\u001b[0m\n",
      "\n",
      "[23:05:19] Feats was rejected during automatic roles guess: []\n",
      "[23:05:20] Layer \u001b[1m1\u001b[0m train process start. Time left 2159967.12 secs\n",
      "[23:05:53] number of text features: 0 \n",
      "[23:05:53] number of categorical features: 8 \n",
      "[23:05:53] number of continuous features: 2 \n",
      "[23:05:53] Start fitting \u001b[1mLvl_0_Pipe_0_Mod_0_TorchNN_denselight_0\u001b[0m ...\n",
      "[23:05:53] Training params: {'num_workers': 0, 'pin_memory': False, 'max_length': 256, 'is_snap': False, 'input_bn': False, 'max_emb_size': 256, 'bert_name': None, 'pooling': 'cls', 'device': device(type='cuda', index=0), 'use_cont': True, 'use_cat': True, 'use_text': False, 'lang': 'en', 'deterministic': True, 'multigpu': False, 'random_state': 42, 'model': 'denselight', 'model_with_emb': False, 'path_to_save': None, 'verbose_inside': None, 'verbose': 1, 'n_epochs': 10, 'snap_params': {'k': 2, 'early_stopping': True, 'patience': 1, 'swa': True}, 'bs': 1024, 'emb_dropout': 0.1, 'emb_ratio': 3, 'opt': 'Adam', 'opt_params': {'lr': 0.0003, 'weight_decay': 0}, 'sch': 'ReduceLROnPlateau', 'scheduler_params': {'patience': 5, 'factor': 0.5, 'min_lr': 1e-05}, 'loss': None, 'loss_params': {}, 'loss_on_logits': True, 'clip_grad': False, 'clip_grad_params': {}, 'init_bias': True, 'dataset': 'UniversalDataset', 'tuned': False, 'optimization_search_space': None, 'verbose_bar': True, 'freeze_defaults': True, 'n_out': 1, 'hid_factor': [2, 2], 'hidden_size': [512, 128], 'block_config': [2, 2], 'compression': 0.5, 'growth_size': 256, 'bn_factor': 2, 'drop_rate': 0.1, 'noise_std': 0.05, 'num_init_features': None, 'act_fun': 'SiLU', 'use_noise': False, 'use_bn': True, 'embedding_size': 32, 'cat_embedder': 'weighted', 'cont_embedder': 'plr', 'stop_by_metric': True, 'tuning_params': {'fit_on_holdout': True, 'max_tuning_iter': 25, 'max_tuning_time': 3600}, 'device_ids': None, 'num_dims': 2, 'text_features': [], 'bias': array([-1.96434774])}\n",
      "[23:05:54] ===== Start working with \u001b[1mfold 0\u001b[0m for \u001b[1mLvl_0_Pipe_0_Mod_0_TorchNN_denselight_0\u001b[0m =====\n"
     ]
    },
    {
     "name": "stderr",
     "output_type": "stream",
     "text": [
      "train (loss=0.249043): 100%|██████████| 8988/8988 [01:52<00:00, 80.08it/s]\n",
      "val: 100%|██████████| 2248/2248 [00:23<00:00, 97.57it/s]\n"
     ]
    },
    {
     "name": "stdout",
     "output_type": "stream",
     "text": [
      "[23:08:13] Epoch: 0, train loss: 0.24904334545135498, val loss: 0.2437402307987213, val metric: 0.8910446975933641\n"
     ]
    },
    {
     "name": "stderr",
     "output_type": "stream",
     "text": [
      "train (loss=0.242831): 100%|██████████| 8988/8988 [01:55<00:00, 77.90it/s]\n",
      "val: 100%|██████████| 2248/2248 [00:23<00:00, 94.76it/s]\n"
     ]
    },
    {
     "name": "stdout",
     "output_type": "stream",
     "text": [
      "[23:10:34] Epoch: 1, train loss: 0.2428310215473175, val loss: 0.2428431659936905, val metric: 0.8919118389207087\n"
     ]
    },
    {
     "name": "stderr",
     "output_type": "stream",
     "text": [
      "train (loss=0.240988): 100%|██████████| 8988/8988 [01:53<00:00, 78.99it/s]\n",
      "val: 100%|██████████| 2248/2248 [00:23<00:00, 96.19it/s]\n"
     ]
    },
    {
     "name": "stdout",
     "output_type": "stream",
     "text": [
      "[23:12:53] Epoch: 2, train loss: 0.2409876585006714, val loss: 0.24259255826473236, val metric: 0.8922551446782716\n"
     ]
    },
    {
     "name": "stderr",
     "output_type": "stream",
     "text": [
      "train (loss=0.239268): 100%|██████████| 8988/8988 [01:55<00:00, 78.10it/s]\n",
      "val: 100%|██████████| 2248/2248 [00:23<00:00, 96.23it/s]\n"
     ]
    },
    {
     "name": "stdout",
     "output_type": "stream",
     "text": [
      "[23:15:13] Epoch: 3, train loss: 0.2392677217721939, val loss: 0.2430115044116974, val metric: 0.8919907488723188\n"
     ]
    },
    {
     "name": "stderr",
     "output_type": "stream",
     "text": [
      "train (loss=0.237721): 100%|██████████| 8988/8988 [01:54<00:00, 78.56it/s]\n",
      "val: 100%|██████████| 2248/2248 [00:23<00:00, 96.19it/s]\n"
     ]
    },
    {
     "name": "stdout",
     "output_type": "stream",
     "text": [
      "[23:17:33] Epoch: 4, train loss: 0.23772063851356506, val loss: 0.24351686239242554, val metric: 0.8914084660875635\n"
     ]
    },
    {
     "name": "stderr",
     "output_type": "stream",
     "text": [
      "val: 100%|██████████| 2248/2248 [00:23<00:00, 95.26it/s]\n"
     ]
    },
    {
     "name": "stdout",
     "output_type": "stream",
     "text": [
      "[23:17:57] Early stopping: val loss: 0.2424994707107544, val metric: 0.8924123106501103\n",
      "[23:17:58] ===== Start working with \u001b[1mfold 1\u001b[0m for \u001b[1mLvl_0_Pipe_0_Mod_0_TorchNN_denselight_0\u001b[0m =====\n"
     ]
    },
    {
     "name": "stderr",
     "output_type": "stream",
     "text": [
      "train (loss=0.248939): 100%|██████████| 8988/8988 [01:53<00:00, 79.15it/s]\n",
      "val: 100%|██████████| 2248/2248 [00:26<00:00, 83.73it/s]\n"
     ]
    },
    {
     "name": "stdout",
     "output_type": "stream",
     "text": [
      "[23:20:23] Epoch: 0, train loss: 0.2489391565322876, val loss: 0.24400177597999573, val metric: 0.8907103119168472\n"
     ]
    },
    {
     "name": "stderr",
     "output_type": "stream",
     "text": [
      "train (loss=0.242674): 100%|██████████| 8988/8988 [01:55<00:00, 77.71it/s]\n",
      "val: 100%|██████████| 2248/2248 [00:23<00:00, 95.67it/s]\n"
     ]
    },
    {
     "name": "stdout",
     "output_type": "stream",
     "text": [
      "[23:22:43] Epoch: 1, train loss: 0.24267370998859406, val loss: 0.2432456761598587, val metric: 0.8915578902822904\n"
     ]
    },
    {
     "name": "stderr",
     "output_type": "stream",
     "text": [
      "train (loss=0.24069): 100%|██████████| 8988/8988 [02:00<00:00, 74.49it/s] \n",
      "val: 100%|██████████| 2248/2248 [00:23<00:00, 96.06it/s]\n"
     ]
    },
    {
     "name": "stdout",
     "output_type": "stream",
     "text": [
      "[23:25:09] Epoch: 2, train loss: 0.24069008231163025, val loss: 0.243148535490036, val metric: 0.8916618246944679\n"
     ]
    },
    {
     "name": "stderr",
     "output_type": "stream",
     "text": [
      "train (loss=0.239005): 100%|██████████| 8988/8988 [01:54<00:00, 78.59it/s]\n",
      "val: 100%|██████████| 2248/2248 [00:23<00:00, 94.96it/s]\n"
     ]
    },
    {
     "name": "stdout",
     "output_type": "stream",
     "text": [
      "[23:27:29] Epoch: 3, train loss: 0.23900514841079712, val loss: 0.2432897686958313, val metric: 0.8916037104156437\n"
     ]
    },
    {
     "name": "stderr",
     "output_type": "stream",
     "text": [
      "train (loss=0.237562): 100%|██████████| 8988/8988 [01:56<00:00, 77.20it/s]\n",
      "val: 100%|██████████| 2248/2248 [00:23<00:00, 96.06it/s]\n"
     ]
    },
    {
     "name": "stdout",
     "output_type": "stream",
     "text": [
      "[23:29:51] Epoch: 4, train loss: 0.23756209015846252, val loss: 0.24383696913719177, val metric: 0.891088002636193\n"
     ]
    },
    {
     "name": "stderr",
     "output_type": "stream",
     "text": [
      "val: 100%|██████████| 2248/2248 [00:23<00:00, 94.77it/s]\n"
     ]
    },
    {
     "name": "stdout",
     "output_type": "stream",
     "text": [
      "[23:30:16] Early stopping: val loss: 0.2429617941379547, val metric: 0.8919111473936905\n",
      "[23:30:17] ===== Start working with \u001b[1mfold 2\u001b[0m for \u001b[1mLvl_0_Pipe_0_Mod_0_TorchNN_denselight_0\u001b[0m =====\n"
     ]
    },
    {
     "name": "stderr",
     "output_type": "stream",
     "text": [
      "train (loss=0.248937): 100%|██████████| 8988/8988 [01:53<00:00, 78.92it/s]\n",
      "val: 100%|██████████| 2248/2248 [00:23<00:00, 96.07it/s]\n"
     ]
    },
    {
     "name": "stdout",
     "output_type": "stream",
     "text": [
      "[23:32:38] Epoch: 0, train loss: 0.24893702566623688, val loss: 0.24382828176021576, val metric: 0.8908146188446896\n"
     ]
    },
    {
     "name": "stderr",
     "output_type": "stream",
     "text": [
      "train (loss=0.242841): 100%|██████████| 8988/8988 [01:55<00:00, 77.88it/s]\n",
      "val: 100%|██████████| 2248/2248 [00:23<00:00, 95.88it/s]\n"
     ]
    },
    {
     "name": "stdout",
     "output_type": "stream",
     "text": [
      "[23:34:58] Epoch: 1, train loss: 0.24284102022647858, val loss: 0.24311210215091705, val metric: 0.8916442538495842\n"
     ]
    },
    {
     "name": "stderr",
     "output_type": "stream",
     "text": [
      "train (loss=0.240997): 100%|██████████| 8988/8988 [01:55<00:00, 78.04it/s]\n",
      "val: 100%|██████████| 2248/2248 [00:23<00:00, 95.64it/s]\n"
     ]
    },
    {
     "name": "stdout",
     "output_type": "stream",
     "text": [
      "[23:37:19] Epoch: 2, train loss: 0.24099749326705933, val loss: 0.2429431676864624, val metric: 0.8918844514480054\n"
     ]
    },
    {
     "name": "stderr",
     "output_type": "stream",
     "text": [
      "train (loss=0.239357): 100%|██████████| 8988/8988 [01:55<00:00, 77.90it/s]\n",
      "val: 100%|██████████| 2248/2248 [00:23<00:00, 96.16it/s]\n"
     ]
    },
    {
     "name": "stdout",
     "output_type": "stream",
     "text": [
      "[23:39:39] Epoch: 3, train loss: 0.23935674130916595, val loss: 0.24323084950447083, val metric: 0.891599338370992\n"
     ]
    },
    {
     "name": "stderr",
     "output_type": "stream",
     "text": [
      "val: 100%|██████████| 2248/2248 [00:23<00:00, 95.85it/s]\n"
     ]
    },
    {
     "name": "stdout",
     "output_type": "stream",
     "text": [
      "[23:40:04] Early stopping: val loss: 0.24277502298355103, val metric: 0.892085805587186\n",
      "[23:40:05] ===== Start working with \u001b[1mfold 3\u001b[0m for \u001b[1mLvl_0_Pipe_0_Mod_0_TorchNN_denselight_0\u001b[0m =====\n"
     ]
    },
    {
     "name": "stderr",
     "output_type": "stream",
     "text": [
      "train (loss=0.248906): 100%|██████████| 8988/8988 [01:52<00:00, 79.59it/s]\n",
      "val: 100%|██████████| 2248/2248 [00:23<00:00, 96.15it/s]\n"
     ]
    },
    {
     "name": "stdout",
     "output_type": "stream",
     "text": [
      "[23:42:25] Epoch: 0, train loss: 0.24890582263469696, val loss: 0.2441180944442749, val metric: 0.8904156794979526\n"
     ]
    },
    {
     "name": "stderr",
     "output_type": "stream",
     "text": [
      "train (loss=0.24272): 100%|██████████| 8988/8988 [01:53<00:00, 79.06it/s] \n",
      "val: 100%|██████████| 2248/2248 [00:23<00:00, 95.10it/s]\n"
     ]
    },
    {
     "name": "stdout",
     "output_type": "stream",
     "text": [
      "[23:44:44] Epoch: 1, train loss: 0.24272046983242035, val loss: 0.2433193325996399, val metric: 0.8915253599095943\n"
     ]
    },
    {
     "name": "stderr",
     "output_type": "stream",
     "text": [
      "train (loss=0.240869): 100%|██████████| 8988/8988 [01:54<00:00, 78.30it/s]\n",
      "val: 100%|██████████| 2248/2248 [00:23<00:00, 95.74it/s]\n"
     ]
    },
    {
     "name": "stdout",
     "output_type": "stream",
     "text": [
      "[23:47:04] Epoch: 2, train loss: 0.24086862802505493, val loss: 0.24302369356155396, val metric: 0.8917897993952391\n"
     ]
    },
    {
     "name": "stderr",
     "output_type": "stream",
     "text": [
      "train (loss=0.239184): 100%|██████████| 8988/8988 [01:56<00:00, 77.42it/s]\n",
      "val: 100%|██████████| 2248/2248 [00:23<00:00, 94.40it/s]\n"
     ]
    },
    {
     "name": "stdout",
     "output_type": "stream",
     "text": [
      "[23:49:26] Epoch: 3, train loss: 0.23918417096138, val loss: 0.2433883249759674, val metric: 0.8915617326229828\n"
     ]
    },
    {
     "name": "stderr",
     "output_type": "stream",
     "text": [
      "train (loss=0.237667): 100%|██████████| 8988/8988 [01:55<00:00, 77.71it/s]\n",
      "val: 100%|██████████| 2248/2248 [00:23<00:00, 96.16it/s]\n"
     ]
    },
    {
     "name": "stdout",
     "output_type": "stream",
     "text": [
      "[23:51:47] Epoch: 4, train loss: 0.23766736686229706, val loss: 0.24365472793579102, val metric: 0.8911064585693247\n"
     ]
    },
    {
     "name": "stderr",
     "output_type": "stream",
     "text": [
      "val: 100%|██████████| 2248/2248 [00:23<00:00, 95.80it/s]\n"
     ]
    },
    {
     "name": "stdout",
     "output_type": "stream",
     "text": [
      "[23:52:11] Early stopping: val loss: 0.24288810789585114, val metric: 0.8919923186956806\n",
      "[23:52:12] ===== Start working with \u001b[1mfold 4\u001b[0m for \u001b[1mLvl_0_Pipe_0_Mod_0_TorchNN_denselight_0\u001b[0m =====\n"
     ]
    },
    {
     "name": "stderr",
     "output_type": "stream",
     "text": [
      "train (loss=0.249085): 100%|██████████| 8988/8988 [01:52<00:00, 79.79it/s]\n",
      "val: 100%|██████████| 2248/2248 [00:23<00:00, 97.04it/s]\n"
     ]
    },
    {
     "name": "stdout",
     "output_type": "stream",
     "text": [
      "[23:54:32] Epoch: 0, train loss: 0.2490854561328888, val loss: 0.2435721606016159, val metric: 0.8913643784629701\n"
     ]
    },
    {
     "name": "stderr",
     "output_type": "stream",
     "text": [
      "train (loss=0.242831): 100%|██████████| 8988/8988 [01:56<00:00, 77.09it/s]\n",
      "val: 100%|██████████| 2248/2248 [00:23<00:00, 94.96it/s]\n"
     ]
    },
    {
     "name": "stdout",
     "output_type": "stream",
     "text": [
      "[23:56:54] Epoch: 1, train loss: 0.24283142387866974, val loss: 0.24292884767055511, val metric: 0.8919814912298072\n"
     ]
    },
    {
     "name": "stderr",
     "output_type": "stream",
     "text": [
      "train (loss=0.240877): 100%|██████████| 8988/8988 [01:55<00:00, 78.12it/s]\n",
      "val: 100%|██████████| 2248/2248 [00:23<00:00, 95.54it/s]\n"
     ]
    },
    {
     "name": "stdout",
     "output_type": "stream",
     "text": [
      "[23:59:14] Epoch: 2, train loss: 0.2408767193555832, val loss: 0.24245241284370422, val metric: 0.8924703690806054\n"
     ]
    },
    {
     "name": "stderr",
     "output_type": "stream",
     "text": [
      "train (loss=0.239303): 100%|██████████| 8988/8988 [01:55<00:00, 77.71it/s]\n",
      "val: 100%|██████████| 2248/2248 [00:23<00:00, 94.70it/s]\n"
     ]
    },
    {
     "name": "stdout",
     "output_type": "stream",
     "text": [
      "[00:01:35] Epoch: 3, train loss: 0.23930306732654572, val loss: 0.24263928830623627, val metric: 0.8923158550812593\n"
     ]
    },
    {
     "name": "stderr",
     "output_type": "stream",
     "text": [
      "train (loss=0.237895): 100%|██████████| 8988/8988 [01:55<00:00, 78.04it/s]\n",
      "val: 100%|██████████| 2248/2248 [00:23<00:00, 96.47it/s]\n"
     ]
    },
    {
     "name": "stdout",
     "output_type": "stream",
     "text": [
      "[00:03:56] Epoch: 4, train loss: 0.2378953993320465, val loss: 0.24316591024398804, val metric: 0.8920083818724441\n"
     ]
    },
    {
     "name": "stderr",
     "output_type": "stream",
     "text": [
      "val: 100%|██████████| 2248/2248 [00:26<00:00, 85.98it/s]\n"
     ]
    },
    {
     "name": "stdout",
     "output_type": "stream",
     "text": [
      "[00:04:23] Early stopping: val loss: 0.2423122525215149, val metric: 0.892639222234881\n",
      "[00:04:28] Fitting \u001b[1mLvl_0_Pipe_0_Mod_0_TorchNN_denselight_0\u001b[0m finished. score = \u001b[1m0.8921928515951411\u001b[0m\n",
      "[00:04:28] \u001b[1mLvl_0_Pipe_0_Mod_0_TorchNN_denselight_0\u001b[0m fitting and predicting completed\n",
      "[00:04:28] Time left 2156419.63 secs\n",
      "\n",
      "[00:04:28] \u001b[1mLayer 1 training completed.\u001b[0m\n",
      "\n",
      "[00:04:28] \u001b[1mAutoml preset training completed in 3580.46 seconds\u001b[0m\n",
      "\n",
      "[00:04:28] Model description:\n",
      "Final prediction for new objects (level 0) = \n",
      "\t 1.00000 * (5 averaged models Lvl_0_Pipe_0_Mod_0_TorchNN_denselight_0) \n",
      "\n"
     ]
    }
   ],
   "source": [
    "task = Task('binary') #‘binary’ \n",
    "automl = TabularAutoML(\n",
    "    task = task, \n",
    "    timeout = 600 * 3600,\n",
    "    cpu_limit = 16,\n",
    "    gpu_ids = '0',\n",
    "    general_params = {\"use_algos\": [['denselight']]}, # ['nn', 'mlp', 'dense', 'denselight', 'resnet', 'snn', 'node', 'autoint', 'fttransformer'] or custom torch model\n",
    "    nn_params = {\n",
    "        \"n_epochs\": 10, \n",
    "        \"bs\": 1024, \n",
    "        \"num_workers\": 0, \n",
    "        \"path_to_save\": None, \n",
    "        \"freeze_defaults\": True,\n",
    "        \"cont_embedder\": 'plr',\n",
    "        'cat_embedder': 'weighted',\n",
    "        'act_fun': 'SiLU',\n",
    "        \"hidden_size\": [512, 128],\n",
    "        'embedding_size': 32,\n",
    "        'stop_by_metric': True,\n",
    "        'verbose_bar': True,\n",
    "        \"snap_params\": { 'k': 2, 'early_stopping': True, 'patience': 1, 'swa': True }\n",
    "    },\n",
    "    nn_pipeline_params = {\"use_qnt\": True, \"use_te\": False},\n",
    "    reader_params = {'n_jobs': 16, 'cv': 5, 'random_state': 42, 'advanced_roles': True}\n",
    ")\n",
    "\n",
    "out_of_fold_predictions = automl.fit_predict(\n",
    "    train, #valid_data=X_val,\n",
    "    roles = {\n",
    "        'target': 'Response',\n",
    "        'drop': ['id']\n",
    "    }, \n",
    "    verbose = 4\n",
    ")"
   ]
  },
  {
   "cell_type": "code",
   "execution_count": 13,
   "id": "3f88f739",
   "metadata": {},
   "outputs": [
    {
     "data": {
      "text/plain": [
       "0.8921928515951411"
      ]
     },
     "execution_count": 13,
     "metadata": {},
     "output_type": "execute_result"
    }
   ],
   "source": [
    "roc_auc_score(train.Response, out_of_fold_predictions.data)"
   ]
  },
  {
   "cell_type": "code",
   "execution_count": 14,
   "id": "1aac5be6",
   "metadata": {},
   "outputs": [
    {
     "name": "stderr",
     "output_type": "stream",
     "text": [
      "test: 100%|██████████| 7491/7491 [00:55<00:00, 136.14it/s]\n",
      "test: 100%|██████████| 7491/7491 [00:50<00:00, 148.62it/s]\n",
      "test: 100%|██████████| 7491/7491 [00:49<00:00, 151.23it/s]\n",
      "test: 100%|██████████| 7491/7491 [00:49<00:00, 151.39it/s]\n",
      "test: 100%|██████████| 7491/7491 [00:49<00:00, 151.06it/s]\n"
     ]
    }
   ],
   "source": [
    "pred = automl.predict(test)"
   ]
  },
  {
   "cell_type": "code",
   "execution_count": 15,
   "id": "bb9966ed",
   "metadata": {},
   "outputs": [
    {
     "data": {
      "text/plain": [
       "['denselight_5fold_model_089219.jbl']"
      ]
     },
     "execution_count": 15,
     "metadata": {},
     "output_type": "execute_result"
    }
   ],
   "source": [
    "import joblib\n",
    "joblib.dump((out_of_fold_predictions.data[:, 0], pred.data[:, 0]), 'denselight_5fold_oof_test_089219.jbl')\n",
    "joblib.dump(automl, 'denselight_5fold_model_089219.jbl')"
   ]
  }
 ],
 "metadata": {
  "kaggle": {
   "accelerator": "none",
   "dataSources": [
    {
     "databundleVersionId": 6989718,
     "sourceId": 60892,
     "sourceType": "competition"
    },
    {
     "datasetId": 3815527,
     "sourceId": 6612067,
     "sourceType": "datasetVersion"
    },
    {
     "datasetId": 3985804,
     "sourceId": 6940442,
     "sourceType": "datasetVersion"
    }
   ],
   "dockerImageVersionId": 30579,
   "isGpuEnabled": false,
   "isInternetEnabled": true,
   "language": "python",
   "sourceType": "notebook"
  },
  "kernelspec": {
   "display_name": "Python [conda env:root] *",
   "language": "python",
   "name": "conda-root-py"
  },
  "language_info": {
   "codemirror_mode": {
    "name": "ipython",
    "version": 3
   },
   "file_extension": ".py",
   "mimetype": "text/x-python",
   "name": "python",
   "nbconvert_exporter": "python",
   "pygments_lexer": "ipython3",
   "version": "3.9.18"
  },
  "papermill": {
   "default_parameters": {},
   "duration": 10466.178192,
   "end_time": "2023-11-15T16:44:45.056445",
   "environment_variables": {},
   "exception": null,
   "input_path": "__notebook__.ipynb",
   "output_path": "__notebook__.ipynb",
   "parameters": {},
   "start_time": "2023-11-15T13:50:18.878253",
   "version": "2.4.0"
  }
 },
 "nbformat": 4,
 "nbformat_minor": 5
}
