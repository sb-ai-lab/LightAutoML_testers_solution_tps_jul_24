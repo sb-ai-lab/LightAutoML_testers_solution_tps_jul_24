{
 "cells": [
  {
   "cell_type": "code",
   "execution_count": 1,
   "id": "44af725a",
   "metadata": {},
   "outputs": [],
   "source": [
    "import os\n",
    "os.environ[\"CUDA_DEVICE_ORDER\"]=\"PCI_BUS_ID\"   # see issue #152\n",
    "os.environ[\"CUDA_VISIBLE_DEVICES\"]=\"1\""
   ]
  },
  {
   "cell_type": "code",
   "execution_count": 2,
   "id": "9ea4d624",
   "metadata": {
    "execution": {
     "iopub.execute_input": "2023-11-15T13:51:02.113786Z",
     "iopub.status.busy": "2023-11-15T13:51:02.113289Z",
     "iopub.status.idle": "2023-11-15T13:52:02.602973Z",
     "shell.execute_reply": "2023-11-15T13:52:02.601369Z"
    },
    "papermill": {
     "duration": 60.516835,
     "end_time": "2023-11-15T13:52:02.606867",
     "exception": false,
     "start_time": "2023-11-15T13:51:02.090032",
     "status": "completed"
    },
    "tags": []
   },
   "outputs": [
    {
     "name": "stdout",
     "output_type": "stream",
     "text": [
      "'nlp' extra dependecy package 'gensim' isn't installed. Look at README.md in repo 'LightAutoML' for installation instructions.\n",
      "'nlp' extra dependecy package 'gensim' isn't installed. Look at README.md in repo 'LightAutoML' for installation instructions.\n"
     ]
    },
    {
     "name": "stderr",
     "output_type": "stream",
     "text": [
      "/home/user/conda/lib/python3.9/site-packages/lightautoml/transformers/text.py:22: UserWarning: 'gensim' - package isn't installed\n",
      "  warnings.warn(\"'gensim' - package isn't installed\")\n"
     ]
    }
   ],
   "source": [
    "# Essential DS libraries\n",
    "import numpy as np\n",
    "import pandas as pd\n",
    "from sklearn.metrics import median_absolute_error, accuracy_score,roc_auc_score\n",
    "from sklearn.model_selection import train_test_split\n",
    "import torch\n",
    "import torch.nn as nn\n",
    "from torch.optim.lr_scheduler import ReduceLROnPlateau\n",
    "\n",
    "# LightAutoML presets, task and report generation\n",
    "from lightautoml.automl.presets.tabular_presets import TabularAutoML\n",
    "from lightautoml.tasks import Task"
   ]
  },
  {
   "cell_type": "code",
   "execution_count": 3,
   "id": "86932369",
   "metadata": {
    "execution": {
     "iopub.execute_input": "2023-11-15T13:52:02.651810Z",
     "iopub.status.busy": "2023-11-15T13:52:02.650726Z",
     "iopub.status.idle": "2023-11-15T13:52:02.665460Z",
     "shell.execute_reply": "2023-11-15T13:52:02.663739Z"
    },
    "papermill": {
     "duration": 0.040637,
     "end_time": "2023-11-15T13:52:02.668632",
     "exception": false,
     "start_time": "2023-11-15T13:52:02.627995",
     "status": "completed"
    },
    "tags": []
   },
   "outputs": [],
   "source": [
    "# utils\n",
    "\n",
    "def map_class(x, task, reader):\n",
    "    if task.name == 'multiclass':\n",
    "        return reader[x]\n",
    "    else:\n",
    "        return x\n",
    "\n",
    "mapped = np.vectorize(map_class)\n",
    "\n",
    "def score(task, y_true, y_pred):\n",
    "    if task.name == 'binary':\n",
    "        return roc_auc_score(y_true, y_pred)\n",
    "    elif task.name == 'multiclass':\n",
    "        return accuracy_score(y_true, np.argmax(y_pred, 1))\n",
    "    elif task.name == 'reg' or task.name == 'multi:reg':\n",
    "        return median_absolute_error(y_true, y_pred)\n",
    "    else:\n",
    "        raise 'Task is not correct.'\n",
    "        \n",
    "def take_pred_from_task(pred, task):\n",
    "    if task.name == 'binary' or task.name == 'reg':\n",
    "        return pred[:, 0]\n",
    "    elif task.name == 'multiclass' or task.name == 'multi:reg':\n",
    "        return pred\n",
    "    else:\n",
    "        raise 'Task is not correct.'\n",
    "        \n",
    "def use_plr(USE_PLR):\n",
    "    if USE_PLR:\n",
    "        return \"plr\"\n",
    "    else:\n",
    "        return \"cont\""
   ]
  },
  {
   "cell_type": "markdown",
   "id": "209fda6c",
   "metadata": {
    "papermill": {
     "duration": 0.021107,
     "end_time": "2023-11-15T13:52:02.711353",
     "exception": false,
     "start_time": "2023-11-15T13:52:02.690246",
     "status": "completed"
    },
    "tags": []
   },
   "source": [
    "### 0.2 Constants\n",
    "\n",
    "Here we setup the constants to use in the kernel:\n",
    "- `N_THREADS` - number of vCPUs for LightAutoML model creation\n",
    "- `N_FOLDS` - number of folds in LightAutoML inner CV\n",
    "- `RANDOM_STATE` - random seed for better reproducibility\n",
    "- `TEST_SIZE` - houldout data part size \n",
    "- `TIMEOUT` - limit in seconds for model to train\n",
    "- `TARGET_NAME` - target column name in dataset\n",
    "- `TASK` - task name, 'reg', 'binary', 'multiclass', 'multi:reg'\n",
    "- `ALGOS_FOR_BLEND` - algorithms used in blending\n",
    "- `USE_PLR` - if True use PLR embedder for continuous features, else Basic Embedder\n",
    "- `TRAIN_BS` - train batch size"
   ]
  },
  {
   "cell_type": "code",
   "execution_count": 4,
   "id": "61b1085b",
   "metadata": {},
   "outputs": [],
   "source": [
    "RANDOM_STATE = 42\n",
    "N_THREADS = 16"
   ]
  },
  {
   "cell_type": "code",
   "execution_count": 5,
   "id": "ab63317c",
   "metadata": {
    "execution": {
     "iopub.execute_input": "2023-11-15T13:52:02.759937Z",
     "iopub.status.busy": "2023-11-15T13:52:02.758894Z",
     "iopub.status.idle": "2023-11-15T13:52:02.772003Z",
     "shell.execute_reply": "2023-11-15T13:52:02.770871Z"
    },
    "papermill": {
     "duration": 0.040349,
     "end_time": "2023-11-15T13:52:02.775425",
     "exception": false,
     "start_time": "2023-11-15T13:52:02.735076",
     "status": "completed"
    },
    "tags": []
   },
   "outputs": [],
   "source": [
    "np.random.seed(RANDOM_STATE)\n",
    "torch.set_num_threads(N_THREADS)"
   ]
  },
  {
   "cell_type": "markdown",
   "id": "8e188954",
   "metadata": {
    "papermill": {
     "duration": 0.023074,
     "end_time": "2023-11-15T13:52:02.822731",
     "exception": false,
     "start_time": "2023-11-15T13:52:02.799657",
     "status": "completed"
    },
    "tags": []
   },
   "source": [
    "### 0.3 Data loading"
   ]
  },
  {
   "cell_type": "code",
   "execution_count": 6,
   "id": "8152835d",
   "metadata": {
    "execution": {
     "iopub.execute_input": "2023-11-15T13:52:02.866727Z",
     "iopub.status.busy": "2023-11-15T13:52:02.866200Z",
     "iopub.status.idle": "2023-11-15T13:52:03.377899Z",
     "shell.execute_reply": "2023-11-15T13:52:03.376300Z"
    },
    "papermill": {
     "duration": 0.537306,
     "end_time": "2023-11-15T13:52:03.381055",
     "exception": false,
     "start_time": "2023-11-15T13:52:02.843749",
     "status": "completed"
    },
    "tags": []
   },
   "outputs": [],
   "source": [
    "train = pd.read_csv('../input/playground-series-s4e7/train.csv')\n",
    "test = pd.read_csv('../input/playground-series-s4e7/test.csv')"
   ]
  },
  {
   "cell_type": "code",
   "execution_count": 7,
   "id": "776c9a03",
   "metadata": {},
   "outputs": [],
   "source": [
    "# X_train, X_val = train_test_split(train, test_size=0.2, random_state=42, shuffle=True, stratify=train.Response)"
   ]
  },
  {
   "cell_type": "code",
   "execution_count": 8,
   "id": "6a67dc48",
   "metadata": {
    "_kg_hide-output": true,
    "execution": {
     "iopub.execute_input": "2023-11-15T13:52:28.576701Z",
     "iopub.status.busy": "2023-11-15T13:52:28.575802Z",
     "iopub.status.idle": "2023-11-15T14:01:34.509384Z",
     "shell.execute_reply": "2023-11-15T14:01:34.507879Z"
    },
    "papermill": {
     "duration": 545.963332,
     "end_time": "2023-11-15T14:01:34.512994",
     "exception": false,
     "start_time": "2023-11-15T13:52:28.549662",
     "status": "completed"
    },
    "scrolled": true,
    "tags": []
   },
   "outputs": [
    {
     "name": "stdout",
     "output_type": "stream",
     "text": [
      "[20:58:21] Stdout logging level is DEBUG.\n",
      "[20:58:21] Copying TaskTimer may affect the parent PipelineTimer, so copy will create new unlimited TaskTimer\n",
      "[20:58:21] Task: binary\n",
      "\n",
      "[20:58:21] Start automl preset with listed constraints:\n",
      "[20:58:21] - time: 2160000.00 seconds\n",
      "[20:58:21] - CPU: 16 cores\n",
      "[20:58:21] - memory: 16 GB\n",
      "\n",
      "[20:58:21] \u001b[1mTrain data shape: (11504798, 12)\u001b[0m\n",
      "\n",
      "[20:58:48] Feats was rejected during automatic roles guess: []\n",
      "[20:58:49] Layer \u001b[1m1\u001b[0m train process start. Time left 2159971.84 secs\n",
      "[20:59:16] number of text features: 0 \n",
      "[20:59:16] number of categorical features: 8 \n",
      "[20:59:16] number of continuous features: 2 \n",
      "[20:59:16] Start fitting \u001b[1mLvl_0_Pipe_0_Mod_0_TorchNN_autoint_0\u001b[0m ...\n",
      "[20:59:16] Training params: {'num_workers': 0, 'pin_memory': False, 'max_length': 256, 'is_snap': False, 'input_bn': False, 'max_emb_size': 256, 'bert_name': None, 'pooling': 'cls', 'device': device(type='cuda', index=0), 'use_cont': True, 'use_cat': True, 'use_text': False, 'lang': 'en', 'deterministic': True, 'multigpu': False, 'random_state': 42, 'model': 'autoint', 'model_with_emb': False, 'path_to_save': None, 'verbose_inside': None, 'verbose': 1, 'n_epochs': 10, 'snap_params': {'k': 1, 'early_stopping': True, 'patience': 1, 'swa': True}, 'bs': 1024, 'emb_dropout': 0.1, 'emb_ratio': 3, 'opt': 'Adam', 'opt_params': {'lr': 0.0003, 'weight_decay': 0}, 'sch': 'ReduceLROnPlateau', 'scheduler_params': {'patience': 5, 'factor': 0.5, 'min_lr': 1e-05}, 'loss': None, 'loss_params': {}, 'loss_on_logits': True, 'clip_grad': False, 'clip_grad_params': {}, 'init_bias': True, 'dataset': 'UniversalDataset', 'tuned': False, 'optimization_search_space': None, 'verbose_bar': True, 'freeze_defaults': True, 'n_out': 1, 'hid_factor': [2, 2], 'hidden_size': 32, 'block_config': [2, 2], 'compression': 0.5, 'growth_size': 256, 'bn_factor': 2, 'drop_rate': 0.1, 'noise_std': 0.05, 'num_init_features': None, 'act_fun': 'LeakyReLU', 'use_noise': False, 'use_bn': True, 'embedding_size': 10, 'cat_embedder': 'weighted', 'cont_embedder': 'plr', 'stop_by_metric': False, 'tuning_params': {'fit_on_holdout': True, 'max_tuning_iter': 25, 'max_tuning_time': 3600}, 'device_ids': None, 'num_dims': 2, 'text_features': [], 'bias': array([-1.96434774])}\n",
      "[20:59:16] ===== Start working with \u001b[1mfold 0\u001b[0m for \u001b[1mLvl_0_Pipe_0_Mod_0_TorchNN_autoint_0\u001b[0m =====\n"
     ]
    },
    {
     "name": "stderr",
     "output_type": "stream",
     "text": [
      "train (loss=0.250588): 100%|██████████| 8988/8988 [08:33<00:00, 17.49it/s]\n",
      "val: 100%|██████████| 2248/2248 [01:43<00:00, 21.82it/s]\n"
     ]
    },
    {
     "name": "stdout",
     "output_type": "stream",
     "text": [
      "[21:09:38] Epoch: 0, train loss: 0.2505876123905182, val loss: 0.2447975128889084, val metric: 0.8902458299818045\n"
     ]
    },
    {
     "name": "stderr",
     "output_type": "stream",
     "text": [
      "train (loss=0.243603): 100%|██████████| 8988/8988 [08:39<00:00, 17.30it/s]\n",
      "val: 100%|██████████| 2248/2248 [01:42<00:00, 21.83it/s]\n"
     ]
    },
    {
     "name": "stdout",
     "output_type": "stream",
     "text": [
      "[21:20:01] Epoch: 1, train loss: 0.2436031848192215, val loss: 0.24361677467823029, val metric: 0.8912519269723287\n"
     ]
    },
    {
     "name": "stderr",
     "output_type": "stream",
     "text": [
      "train (loss=0.241971): 100%|██████████| 8988/8988 [08:42<00:00, 17.21it/s]\n",
      "val: 100%|██████████| 2248/2248 [01:43<00:00, 21.73it/s]\n"
     ]
    },
    {
     "name": "stdout",
     "output_type": "stream",
     "text": [
      "[21:30:28] Epoch: 2, train loss: 0.24197076261043549, val loss: 0.24329131841659546, val metric: 0.8913994607435136\n"
     ]
    },
    {
     "name": "stderr",
     "output_type": "stream",
     "text": [
      "train (loss=0.240614): 100%|██████████| 8988/8988 [08:44<00:00, 17.15it/s]\n",
      "val: 100%|██████████| 2248/2248 [01:43<00:00, 21.68it/s]\n"
     ]
    },
    {
     "name": "stdout",
     "output_type": "stream",
     "text": [
      "[21:40:56] Epoch: 3, train loss: 0.24061401188373566, val loss: 0.24300727248191833, val metric: 0.891664029821912\n"
     ]
    },
    {
     "name": "stderr",
     "output_type": "stream",
     "text": [
      "train (loss=0.239419): 100%|██████████| 8988/8988 [08:43<00:00, 17.18it/s]\n",
      "val: 100%|██████████| 2248/2248 [01:43<00:00, 21.81it/s]\n"
     ]
    },
    {
     "name": "stdout",
     "output_type": "stream",
     "text": [
      "[21:51:24] Epoch: 4, train loss: 0.23941949009895325, val loss: 0.24315482378005981, val metric: 0.891591445472411\n"
     ]
    },
    {
     "name": "stderr",
     "output_type": "stream",
     "text": [
      "val: 100%|██████████| 2248/2248 [01:42<00:00, 21.94it/s]\n"
     ]
    },
    {
     "name": "stdout",
     "output_type": "stream",
     "text": [
      "[21:53:07] Early stopping: val loss: 0.24300727248191833, val metric: 0.891664029821912\n",
      "[21:53:08] ===== Start working with \u001b[1mfold 1\u001b[0m for \u001b[1mLvl_0_Pipe_0_Mod_0_TorchNN_autoint_0\u001b[0m =====\n"
     ]
    },
    {
     "name": "stderr",
     "output_type": "stream",
     "text": [
      "train (loss=0.250512): 100%|██████████| 8988/8988 [08:33<00:00, 17.52it/s]\n",
      "val: 100%|██████████| 2248/2248 [01:42<00:00, 21.94it/s]\n"
     ]
    },
    {
     "name": "stdout",
     "output_type": "stream",
     "text": [
      "[22:03:27] Epoch: 0, train loss: 0.2505122125148773, val loss: 0.2445298582315445, val metric: 0.8899244088318721\n"
     ]
    },
    {
     "name": "stderr",
     "output_type": "stream",
     "text": [
      "train (loss=0.243447): 100%|██████████| 8988/8988 [08:44<00:00, 17.15it/s]\n",
      "val: 100%|██████████| 2248/2248 [01:42<00:00, 21.87it/s]\n"
     ]
    },
    {
     "name": "stdout",
     "output_type": "stream",
     "text": [
      "[22:13:55] Epoch: 1, train loss: 0.24344712495803833, val loss: 0.24380099773406982, val metric: 0.8908066239654691\n"
     ]
    },
    {
     "name": "stderr",
     "output_type": "stream",
     "text": [
      "train (loss=0.241932): 100%|██████████| 8988/8988 [08:44<00:00, 17.14it/s]\n",
      "val: 100%|██████████| 2248/2248 [01:42<00:00, 21.89it/s]\n"
     ]
    },
    {
     "name": "stdout",
     "output_type": "stream",
     "text": [
      "[22:24:23] Epoch: 2, train loss: 0.2419317662715912, val loss: 0.24354542791843414, val metric: 0.8911563496434213\n"
     ]
    },
    {
     "name": "stderr",
     "output_type": "stream",
     "text": [
      "train (loss=0.240811): 100%|██████████| 8988/8988 [08:45<00:00, 17.11it/s]\n",
      "val: 100%|██████████| 2248/2248 [01:43<00:00, 21.77it/s]\n"
     ]
    },
    {
     "name": "stdout",
     "output_type": "stream",
     "text": [
      "[22:34:53] Epoch: 3, train loss: 0.24081052839756012, val loss: 0.24330024421215057, val metric: 0.8914351696553349\n"
     ]
    },
    {
     "name": "stderr",
     "output_type": "stream",
     "text": [
      "train (loss=0.239801): 100%|██████████| 8988/8988 [08:48<00:00, 16.99it/s]\n",
      "val: 100%|██████████| 2248/2248 [01:43<00:00, 21.77it/s]\n"
     ]
    },
    {
     "name": "stdout",
     "output_type": "stream",
     "text": [
      "[22:45:26] Epoch: 4, train loss: 0.239800825715065, val loss: 0.24344559013843536, val metric: 0.8913363137333145\n"
     ]
    },
    {
     "name": "stderr",
     "output_type": "stream",
     "text": [
      "val: 100%|██████████| 2248/2248 [01:43<00:00, 21.79it/s]\n"
     ]
    },
    {
     "name": "stdout",
     "output_type": "stream",
     "text": [
      "[22:47:10] Early stopping: val loss: 0.24330024421215057, val metric: 0.8914351696553349\n",
      "[22:47:11] ===== Start working with \u001b[1mfold 2\u001b[0m for \u001b[1mLvl_0_Pipe_0_Mod_0_TorchNN_autoint_0\u001b[0m =====\n"
     ]
    },
    {
     "name": "stderr",
     "output_type": "stream",
     "text": [
      "train (loss=0.250487): 100%|██████████| 8988/8988 [08:31<00:00, 17.56it/s]\n",
      "val: 100%|██████████| 2248/2248 [01:41<00:00, 22.12it/s]\n"
     ]
    },
    {
     "name": "stdout",
     "output_type": "stream",
     "text": [
      "[22:57:28] Epoch: 0, train loss: 0.25048723816871643, val loss: 0.24473683536052704, val metric: 0.8899995544876889\n"
     ]
    },
    {
     "name": "stderr",
     "output_type": "stream",
     "text": [
      "train (loss=0.24329): 100%|██████████| 8988/8988 [08:32<00:00, 17.55it/s] \n",
      "val: 100%|██████████| 2248/2248 [01:42<00:00, 21.88it/s]\n"
     ]
    },
    {
     "name": "stdout",
     "output_type": "stream",
     "text": [
      "[23:07:44] Epoch: 1, train loss: 0.24329034984111786, val loss: 0.24374517798423767, val metric: 0.8910647257353954\n"
     ]
    },
    {
     "name": "stderr",
     "output_type": "stream",
     "text": [
      "train (loss=0.241433): 100%|██████████| 8988/8988 [08:43<00:00, 17.18it/s]\n",
      "val: 100%|██████████| 2248/2248 [01:42<00:00, 21.85it/s]\n"
     ]
    },
    {
     "name": "stdout",
     "output_type": "stream",
     "text": [
      "[23:18:11] Epoch: 2, train loss: 0.24143289029598236, val loss: 0.24335059523582458, val metric: 0.8913061573596993\n"
     ]
    },
    {
     "name": "stderr",
     "output_type": "stream",
     "text": [
      "train (loss=0.240049): 100%|██████████| 8988/8988 [08:46<00:00, 17.08it/s]\n",
      "val: 100%|██████████| 2248/2248 [01:42<00:00, 21.93it/s]\n"
     ]
    },
    {
     "name": "stdout",
     "output_type": "stream",
     "text": [
      "[23:28:40] Epoch: 3, train loss: 0.2400493174791336, val loss: 0.24359077215194702, val metric: 0.8911720925219182\n"
     ]
    },
    {
     "name": "stderr",
     "output_type": "stream",
     "text": [
      "val: 100%|██████████| 2248/2248 [01:42<00:00, 21.96it/s]\n"
     ]
    },
    {
     "name": "stdout",
     "output_type": "stream",
     "text": [
      "[23:30:24] Early stopping: val loss: 0.24335059523582458, val metric: 0.8913061573596993\n",
      "[23:30:25] ===== Start working with \u001b[1mfold 3\u001b[0m for \u001b[1mLvl_0_Pipe_0_Mod_0_TorchNN_autoint_0\u001b[0m =====\n"
     ]
    },
    {
     "name": "stderr",
     "output_type": "stream",
     "text": [
      "train (loss=0.250395): 100%|██████████| 8988/8988 [08:32<00:00, 17.54it/s]\n",
      "val: 100%|██████████| 2248/2248 [01:42<00:00, 21.93it/s]\n"
     ]
    },
    {
     "name": "stdout",
     "output_type": "stream",
     "text": [
      "[23:40:43] Epoch: 0, train loss: 0.25039467215538025, val loss: 0.24486181139945984, val metric: 0.8898996397579347\n"
     ]
    },
    {
     "name": "stderr",
     "output_type": "stream",
     "text": [
      "train (loss=0.243486): 100%|██████████| 8988/8988 [08:36<00:00, 17.41it/s]\n",
      "val: 100%|██████████| 2248/2248 [01:42<00:00, 21.94it/s]\n"
     ]
    },
    {
     "name": "stdout",
     "output_type": "stream",
     "text": [
      "[23:51:03] Epoch: 1, train loss: 0.2434862107038498, val loss: 0.2437405288219452, val metric: 0.8908294017131517\n"
     ]
    },
    {
     "name": "stderr",
     "output_type": "stream",
     "text": [
      "train (loss=0.2419): 100%|██████████| 8988/8988 [08:41<00:00, 17.23it/s]  \n",
      "val: 100%|██████████| 2248/2248 [01:41<00:00, 22.11it/s]\n"
     ]
    },
    {
     "name": "stdout",
     "output_type": "stream",
     "text": [
      "[00:01:27] Epoch: 2, train loss: 0.24189972877502441, val loss: 0.24347320199012756, val metric: 0.8912214780468363\n"
     ]
    },
    {
     "name": "stderr",
     "output_type": "stream",
     "text": [
      "train (loss=0.240541): 100%|██████████| 8988/8988 [08:38<00:00, 17.32it/s]\n",
      "val: 100%|██████████| 2248/2248 [01:42<00:00, 22.04it/s]\n"
     ]
    },
    {
     "name": "stdout",
     "output_type": "stream",
     "text": [
      "[00:11:49] Epoch: 3, train loss: 0.24054066836833954, val loss: 0.24357271194458008, val metric: 0.8911722623086288\n"
     ]
    },
    {
     "name": "stderr",
     "output_type": "stream",
     "text": [
      "val: 100%|██████████| 2248/2248 [01:41<00:00, 22.09it/s]\n"
     ]
    },
    {
     "name": "stdout",
     "output_type": "stream",
     "text": [
      "[00:13:32] Early stopping: val loss: 0.24347320199012756, val metric: 0.8912214780468363\n",
      "[00:13:33] ===== Start working with \u001b[1mfold 4\u001b[0m for \u001b[1mLvl_0_Pipe_0_Mod_0_TorchNN_autoint_0\u001b[0m =====\n"
     ]
    },
    {
     "name": "stderr",
     "output_type": "stream",
     "text": [
      "train (loss=0.250646): 100%|██████████| 8988/8988 [08:23<00:00, 17.85it/s]\n",
      "val: 100%|██████████| 2248/2248 [01:41<00:00, 22.23it/s]\n"
     ]
    },
    {
     "name": "stdout",
     "output_type": "stream",
     "text": [
      "[00:23:41] Epoch: 0, train loss: 0.25064602494239807, val loss: 0.24381543695926666, val metric: 0.890817505865249\n"
     ]
    },
    {
     "name": "stderr",
     "output_type": "stream",
     "text": [
      "train (loss=0.243595): 100%|██████████| 8988/8988 [08:28<00:00, 17.68it/s]\n",
      "val: 100%|██████████| 2248/2248 [01:41<00:00, 22.20it/s]\n"
     ]
    },
    {
     "name": "stdout",
     "output_type": "stream",
     "text": [
      "[00:33:51] Epoch: 1, train loss: 0.24359457194805145, val loss: 0.24350899457931519, val metric: 0.8914025949208267\n"
     ]
    },
    {
     "name": "stderr",
     "output_type": "stream",
     "text": [
      "train (loss=0.241855): 100%|██████████| 8988/8988 [08:32<00:00, 17.54it/s]\n",
      "val: 100%|██████████| 2248/2248 [01:42<00:00, 22.01it/s]\n"
     ]
    },
    {
     "name": "stdout",
     "output_type": "stream",
     "text": [
      "[00:44:07] Epoch: 2, train loss: 0.24185453355312347, val loss: 0.2431061714887619, val metric: 0.8919181065491354\n"
     ]
    },
    {
     "name": "stderr",
     "output_type": "stream",
     "text": [
      "train (loss=0.240343): 100%|██████████| 8988/8988 [08:32<00:00, 17.53it/s]\n",
      "val: 100%|██████████| 2248/2248 [01:41<00:00, 22.16it/s]\n"
     ]
    },
    {
     "name": "stdout",
     "output_type": "stream",
     "text": [
      "[00:54:22] Epoch: 3, train loss: 0.24034304916858673, val loss: 0.2430184781551361, val metric: 0.8918571935670279\n"
     ]
    },
    {
     "name": "stderr",
     "output_type": "stream",
     "text": [
      "train (loss=0.23903): 100%|██████████| 8988/8988 [08:33<00:00, 17.51it/s] \n",
      "val: 100%|██████████| 2248/2248 [01:42<00:00, 22.01it/s]\n"
     ]
    },
    {
     "name": "stdout",
     "output_type": "stream",
     "text": [
      "[01:04:38] Epoch: 4, train loss: 0.23902958631515503, val loss: 0.24313180148601532, val metric: 0.8916047217014021\n"
     ]
    },
    {
     "name": "stderr",
     "output_type": "stream",
     "text": [
      "val: 100%|██████████| 2248/2248 [01:41<00:00, 22.06it/s]\n"
     ]
    },
    {
     "name": "stdout",
     "output_type": "stream",
     "text": [
      "[01:06:21] Early stopping: val loss: 0.2430184781551361, val metric: 0.8918571935670279\n",
      "[01:06:26] Fitting \u001b[1mLvl_0_Pipe_0_Mod_0_TorchNN_autoint_0\u001b[0m finished. score = \u001b[1m0.8914542101523242\u001b[0m\n",
      "[01:06:26] \u001b[1mLvl_0_Pipe_0_Mod_0_TorchNN_autoint_0\u001b[0m fitting and predicting completed\n",
      "[01:06:26] Time left 2145114.59 secs\n",
      "\n",
      "[01:06:26] \u001b[1mLayer 1 training completed.\u001b[0m\n",
      "\n",
      "[01:06:27] \u001b[1mAutoml preset training completed in 14885.52 seconds\u001b[0m\n",
      "\n",
      "[01:06:27] Model description:\n",
      "Final prediction for new objects (level 0) = \n",
      "\t 1.00000 * (5 averaged models Lvl_0_Pipe_0_Mod_0_TorchNN_autoint_0) \n",
      "\n"
     ]
    }
   ],
   "source": [
    "task = Task('binary') #‘binary’ \n",
    "automl = TabularAutoML(\n",
    "    task = task, \n",
    "    timeout = 600 * 3600,\n",
    "    cpu_limit = 16,\n",
    "    general_params = {\"use_algos\": [['autoint']]}, # ['nn', 'mlp', 'dense', 'denselight', 'resnet', 'snn', 'node', 'autoint', 'fttransformer'] or custom torch model\n",
    "    nn_params = {\n",
    "        \"n_epochs\": 10, \n",
    "        \"bs\": 1024, \n",
    "        \"num_workers\": 0, \n",
    "        \"path_to_save\": None, \n",
    "        \"freeze_defaults\": True,\n",
    "        \"cont_embedder\": 'plr',\n",
    "        'cat_embedder': 'weighted',\n",
    "        \"hidden_size\": 32,\n",
    "        'verbose_bar': True,\n",
    "        \"snap_params\": { 'k': 1, 'early_stopping': True, 'patience': 1, 'swa': True }\n",
    "    },\n",
    "    nn_pipeline_params = {\"use_qnt\": False, \"use_te\": False},\n",
    "    reader_params = {'n_jobs': 16, 'cv': 5, 'random_state': 42, 'advanced_roles': True}\n",
    ")\n",
    "\n",
    "out_of_fold_predictions = automl.fit_predict(\n",
    "    train, #valid_data=X_val,\n",
    "    roles = {\n",
    "        'target': 'Response',\n",
    "        'drop': ['id']\n",
    "    }, \n",
    "    verbose = 4\n",
    ")"
   ]
  },
  {
   "cell_type": "code",
   "execution_count": 9,
   "id": "3f88f739",
   "metadata": {},
   "outputs": [
    {
     "data": {
      "text/plain": [
       "0.8914542101523242"
      ]
     },
     "execution_count": 9,
     "metadata": {},
     "output_type": "execute_result"
    }
   ],
   "source": [
    "roc_auc_score(train.Response, out_of_fold_predictions.data)"
   ]
  },
  {
   "cell_type": "code",
   "execution_count": 10,
   "id": "1aac5be6",
   "metadata": {},
   "outputs": [
    {
     "name": "stderr",
     "output_type": "stream",
     "text": [
      "test: 100%|██████████| 7491/7491 [02:56<00:00, 42.54it/s]\n",
      "test: 100%|██████████| 7491/7491 [02:55<00:00, 42.63it/s]\n",
      "test: 100%|██████████| 7491/7491 [02:55<00:00, 42.74it/s]\n",
      "test: 100%|██████████| 7491/7491 [02:54<00:00, 42.96it/s]\n",
      "test: 100%|██████████| 7491/7491 [02:54<00:00, 42.83it/s]\n"
     ]
    }
   ],
   "source": [
    "pred = automl.predict(test)"
   ]
  },
  {
   "cell_type": "code",
   "execution_count": 11,
   "id": "0839b7c7",
   "metadata": {},
   "outputs": [
    {
     "data": {
      "text/plain": [
       "['autoint_5fold_model_089145.jbl']"
      ]
     },
     "execution_count": 11,
     "metadata": {},
     "output_type": "execute_result"
    }
   ],
   "source": [
    "import joblib\n",
    "joblib.dump((out_of_fold_predictions.data[:, 0], pred.data[:, 0]), 'autoint_5fold_oof_test_089145.jbl')\n",
    "joblib.dump(automl, 'autoint_5fold_model_089145.jbl')"
   ]
  }
 ],
 "metadata": {
  "kaggle": {
   "accelerator": "none",
   "dataSources": [
    {
     "databundleVersionId": 6989718,
     "sourceId": 60892,
     "sourceType": "competition"
    },
    {
     "datasetId": 3815527,
     "sourceId": 6612067,
     "sourceType": "datasetVersion"
    },
    {
     "datasetId": 3985804,
     "sourceId": 6940442,
     "sourceType": "datasetVersion"
    }
   ],
   "dockerImageVersionId": 30579,
   "isGpuEnabled": false,
   "isInternetEnabled": true,
   "language": "python",
   "sourceType": "notebook"
  },
  "kernelspec": {
   "display_name": "Python [conda env:root] *",
   "language": "python",
   "name": "conda-root-py"
  },
  "language_info": {
   "codemirror_mode": {
    "name": "ipython",
    "version": 3
   },
   "file_extension": ".py",
   "mimetype": "text/x-python",
   "name": "python",
   "nbconvert_exporter": "python",
   "pygments_lexer": "ipython3",
   "version": "3.9.18"
  },
  "papermill": {
   "default_parameters": {},
   "duration": 10466.178192,
   "end_time": "2023-11-15T16:44:45.056445",
   "environment_variables": {},
   "exception": null,
   "input_path": "__notebook__.ipynb",
   "output_path": "__notebook__.ipynb",
   "parameters": {},
   "start_time": "2023-11-15T13:50:18.878253",
   "version": "2.4.0"
  }
 },
 "nbformat": 4,
 "nbformat_minor": 5
}
