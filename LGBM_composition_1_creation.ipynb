{
 "cells": [
  {
   "cell_type": "code",
   "execution_count": null,
   "metadata": {},
   "outputs": [],
   "source": [
    "import numpy as np # linear algebra\n",
    "import pandas as pd # data processing, CSV file I/O (e.g. pd.read_csv)\n",
    "import matplotlib.pyplot as plt\n",
    "from sklearn.preprocessing import StandardScaler\n",
    "from sklearn.model_selection import train_test_split\n",
    "import warnings\n",
    "warnings.simplefilter(action='ignore', category=FutureWarning)\n",
    "\n",
    "import os\n",
    "\n",
    "from sklearn.metrics import roc_auc_score\n",
    "from sklearn.model_selection import train_test_split\n",
    "import torch\n",
    "\n",
    "from lightautoml.automl.presets.tabular_presets import TabularAutoML, TabularUtilizedAutoML\n",
    "from lightautoml.tasks import Task\n",
    "import lightautoml\n"
   ]
  },
  {
   "cell_type": "code",
   "execution_count": null,
   "metadata": {},
   "outputs": [],
   "source": [
    "train = pd.read_csv('../input/playground-series-s4e7/train.csv')\n",
    "test = pd.read_csv('../input/playground-series-s4e7/test.csv')\n",
    "ss = pd.read_csv('../input/playground-series-s4e7/sample_submission.csv')"
   ]
  },
  {
   "cell_type": "code",
   "execution_count": null,
   "metadata": {},
   "outputs": [],
   "source": [
    "HOLDOUT = False"
   ]
  },
  {
   "cell_type": "code",
   "execution_count": null,
   "metadata": {},
   "outputs": [],
   "source": [
    "if HOLDOUT:\n",
    "    X_train, X_val = train_test_split(train, test_size=0.2, random_state=42, shuffle=True, stratify=train.Response)\n",
    "else:\n",
    "    X_train, X_val = train, test"
   ]
  },
  {
   "cell_type": "code",
   "execution_count": null,
   "metadata": {},
   "outputs": [],
   "source": [
    "\n",
    "task = Task('binary') #‘binary’ \n",
    "automl = TabularAutoML(\n",
    "    task = task,\n",
    "    timeout = 600 * 3600,\n",
    "    cpu_limit = 12,\n",
    "    general_params = {'use_algos':[['lgb']]},\n",
    "    selection_params ={'mode' : 0},\n",
    "    tuning_params = {'max_tuning_time': 0},\n",
    "    reader_params = {'n_jobs': 12, 'cv': 5, 'random_state': 42}\n",
    ")\n",
    "\n",
    "out_of_fold_predictions1 = automl.fit_predict(\n",
    "    X_train,\n",
    "    roles = {\n",
    "        'target': 'Response',\n",
    "        'drop': ['id']\n",
    "    }, \n",
    "    verbose = 4\n",
    ")\n",
    "\n",
    "val_predict = automl.predict(X_val)\n",
    "if HOLDOUT:\n",
    "    roc_auc_score(X_val.Response, val_predict.data)"
   ]
  },
  {
   "cell_type": "code",
   "execution_count": null,
   "metadata": {},
   "outputs": [],
   "source": [
    "roc_auc_score(X_train.Response, out_of_fold_predictions1.data[:, 0])"
   ]
  },
  {
   "cell_type": "markdown",
   "metadata": {},
   "source": [
    "## 2 binary model"
   ]
  },
  {
   "cell_type": "code",
   "execution_count": null,
   "metadata": {},
   "outputs": [],
   "source": [
    "\n",
    "task = Task('binary') #‘binary’ \n",
    "automl1 = TabularAutoML(\n",
    "    task = task,\n",
    "    timeout = 600 * 3600,\n",
    "    cpu_limit = 12,\n",
    "    general_params = {'use_algos':[['lgb']]},\n",
    "    selection_params ={'mode' : 0},\n",
    "    tuning_params = {'max_tuning_time': 0},\n",
    "    reader_params = {'n_jobs': 12, 'cv': 5, 'random_state': 42}\n",
    ")\n",
    "\n",
    "out_of_fold_predictions1_1 = automl1.fit_predict(\n",
    "    X_train[X_train.Previously_Insured==0], \n",
    "    roles = {\n",
    "        'target': 'Response',\n",
    "        'drop': ['id']\n",
    "    }, \n",
    "    verbose = 4\n",
    ")\n",
    "\n",
    "\n",
    "automl2 = TabularAutoML(\n",
    "    task = task,\n",
    "    timeout = 600 * 3600,\n",
    "    cpu_limit = 12,\n",
    "    general_params = {'use_algos':[['lgb']]},\n",
    "    selection_params ={'mode' : 0},\n",
    "    tuning_params = {'max_tuning_time': 0},\n",
    "    reader_params = {'n_jobs': 12, 'cv': 5, 'random_state': 42}\n",
    ")\n",
    "out_of_fold_predictions2_1 = automl2.fit_predict(\n",
    "    X_train[X_train.Previously_Insured==1],\n",
    "    roles = {\n",
    "        'target': 'Response',\n",
    "        'drop': ['id']\n",
    "    }, \n",
    "    verbose = 4\n",
    ")\n",
    "\n",
    "val_predict1 = automl1.predict(X_val[X_val.Previously_Insured==0])\n",
    "val_predict2 = automl2.predict(X_val[X_val.Previously_Insured==1])\n",
    "\n",
    "\n",
    "y_pred = pd.Series(index=X_val.index)\n",
    "y_pred.iloc[X_val.Previously_Insured==0] = val_predict1.data[:, 0]\n",
    "y_pred.iloc[X_val.Previously_Insured==1] = val_predict2.data[:, 0]\n",
    "\n",
    "oof1 = pd.Series(index=X_train.index)\n",
    "oof1.iloc[X_train.Previously_Insured==0] = out_of_fold_predictions1_1.data[:, 0]\n",
    "oof1.iloc[X_train.Previously_Insured==1] = out_of_fold_predictions2_1.data[:, 0]\n",
    "\n",
    "if HOLDOUT:\n",
    "    roc_auc_score(X_val.Response, y_pred)"
   ]
  },
  {
   "cell_type": "code",
   "execution_count": null,
   "metadata": {},
   "outputs": [],
   "source": [
    "roc_auc_score(X_train.Response, oof1)"
   ]
  },
  {
   "cell_type": "code",
   "execution_count": null,
   "metadata": {},
   "outputs": [],
   "source": [
    "\n",
    "task = Task('binary') #‘binary’ \n",
    "automl1_1 = TabularAutoML(\n",
    "    task = task,\n",
    "    timeout = 600 * 3600,\n",
    "    cpu_limit = 12,\n",
    "    general_params = {'use_algos':[['lgb']]},\n",
    "    selection_params ={'mode' : 0},\n",
    "    tuning_params = {'max_tuning_time': 0},\n",
    "    reader_params = {'n_jobs': 12, 'cv': 5, 'random_state': 42}\n",
    ")\n",
    "\n",
    "out_of_fold_predictions1_2 = automl1_1.fit_predict(\n",
    "    X_train[X_train.Vehicle_Damage=='Yes'], \n",
    "    roles = {\n",
    "        'target': 'Response',\n",
    "        'drop': ['id']\n",
    "    }, \n",
    "    verbose = 4\n",
    ")\n",
    "\n",
    "\n",
    "automl2_1 = TabularAutoML(\n",
    "    task = task,\n",
    "    timeout = 600 * 3600,\n",
    "    cpu_limit = 12,\n",
    "    general_params = {'use_algos':[['lgb']]},\n",
    "    selection_params ={'mode' : 0},\n",
    "    tuning_params = {'max_tuning_time': 0},\n",
    "    reader_params = {'n_jobs': 12, 'cv': 5, 'random_state': 42}\n",
    ")\n",
    "out_of_fold_predictions2_2 = automl2_1.fit_predict(\n",
    "    X_train[X_train.Vehicle_Damage=='No'],\n",
    "    roles = {\n",
    "        'target': 'Response',\n",
    "        'drop': ['id']\n",
    "    }, \n",
    "    verbose = 4\n",
    ")\n",
    "\n",
    "val_predict1_2 = automl1_1.predict(X_val[X_val.Vehicle_Damage=='Yes'])\n",
    "val_predict2_2 = automl2_1.predict(X_val[X_val.Vehicle_Damage=='No'])\n",
    "\n",
    "\n",
    "y_pred2 = pd.Series(index=X_val.index)\n",
    "y_pred2.iloc[X_val.Vehicle_Damage=='Yes'] = val_predict1_2.data[:, 0]\n",
    "y_pred2.iloc[X_val.Vehicle_Damage=='No'] = val_predict2_2.data[:, 0]\n",
    "\n",
    "oof2 = pd.Series(index=X_train.index)\n",
    "oof2.iloc[X_train.Vehicle_Damage=='Yes'] = out_of_fold_predictions1_2.data[:, 0]\n",
    "oof2.iloc[X_train.Vehicle_Damage=='No'] = out_of_fold_predictions2_2.data[:, 0]\n",
    "\n",
    "if HOLDOUT:\n",
    "    roc_auc_score(X_val.Response, y_pred2)"
   ]
  },
  {
   "cell_type": "code",
   "execution_count": null,
   "metadata": {},
   "outputs": [],
   "source": [
    "roc_auc_score(X_train.Response, oof2)"
   ]
  },
  {
   "cell_type": "code",
   "execution_count": null,
   "metadata": {},
   "outputs": [],
   "source": [
    "if HOLDOUT:\n",
    "    roc_auc_score(X_val.Response, y_pred+y_pred2)"
   ]
  },
  {
   "cell_type": "code",
   "execution_count": null,
   "metadata": {},
   "outputs": [],
   "source": [
    "roc_auc_score(X_train.Response, oof1+oof2)"
   ]
  },
  {
   "cell_type": "markdown",
   "metadata": {},
   "source": [
    "# 4 binary models "
   ]
  },
  {
   "cell_type": "code",
   "execution_count": null,
   "metadata": {},
   "outputs": [],
   "source": [
    "Xt1 = X_train[X_train.Previously_Insured==0]\n",
    "Xt1 = Xt1[Xt1.Vehicle_Damage=='Yes']\n",
    "\n",
    "Xt2 = X_train[X_train.Previously_Insured==0]\n",
    "Xt2 = Xt2[Xt2.Vehicle_Damage=='No']\n",
    "\n",
    "Xt3 = X_train[X_train.Previously_Insured==1]\n",
    "Xt3 = Xt3[Xt3.Vehicle_Damage=='Yes']\n",
    "\n",
    "Xt4 = X_train[X_train.Previously_Insured==1]\n",
    "Xt4 = Xt4[Xt4.Vehicle_Damage=='No']\n",
    "\n",
    "Xv1 = X_val[X_val.Previously_Insured==0]\n",
    "Xv1 = Xv1[Xv1.Vehicle_Damage=='Yes']\n",
    "\n",
    "Xv2 = X_val[X_val.Previously_Insured==0]\n",
    "Xv2 = Xv2[Xv2.Vehicle_Damage=='No']\n",
    "\n",
    "Xv3 = X_val[X_val.Previously_Insured==1]\n",
    "Xv3 = Xv3[Xv3.Vehicle_Damage=='Yes']\n",
    "\n",
    "Xv4 = X_val[X_val.Previously_Insured==1]\n",
    "Xv4 = Xv4[Xv4.Vehicle_Damage=='No']\n",
    "\n",
    "task = Task('binary') #‘binary’ \n",
    "\n",
    "automl1_3 = TabularAutoML(\n",
    "    task = task,\n",
    "    timeout = 600 * 3600,\n",
    "    cpu_limit = 12,\n",
    "    general_params = {'use_algos':[['lgb']]},\n",
    "    selection_params ={'mode' : 0},\n",
    "    tuning_params = {'max_tuning_time': 0},\n",
    "    reader_params = {'n_jobs': 12, 'cv': 5, 'random_state': 42}\n",
    ")\n",
    "\n",
    "out_of_fold_predictions1_3 = automl1_3.fit_predict(\n",
    "    Xt1, \n",
    "    roles = {\n",
    "        'target': 'Response',\n",
    "        'drop': ['id']\n",
    "    }, \n",
    "    verbose = 4\n",
    ")\n",
    "\n",
    "automl2_3 = TabularAutoML(\n",
    "    task = task,\n",
    "    timeout = 600 * 3600,\n",
    "    cpu_limit = 12,\n",
    "    general_params = {'use_algos':[['lgb']]},\n",
    "    selection_params ={'mode' : 0},\n",
    "    tuning_params = {'max_tuning_time': 0},\n",
    "    reader_params = {'n_jobs': 12, 'cv': 5, 'random_state': 42}\n",
    ")\n",
    "\n",
    "out_of_fold_predictions2_3 = automl2_3.fit_predict(\n",
    "    Xt2, \n",
    "    roles = {\n",
    "        'target': 'Response',\n",
    "        'drop': ['id']\n",
    "    }, \n",
    "    verbose = 4\n",
    ")\n",
    "\n",
    "automl3_3 = TabularAutoML(\n",
    "    task = task,\n",
    "    timeout = 600 * 3600,\n",
    "    cpu_limit = 12,\n",
    "    general_params = {'use_algos':[['lgb']]},\n",
    "    selection_params ={'mode' : 0},\n",
    "    tuning_params = {'max_tuning_time': 0},\n",
    "    reader_params = {'n_jobs': 12, 'cv': 5, 'random_state': 42}\n",
    ")\n",
    "\n",
    "out_of_fold_predictions3_3 = automl3_3.fit_predict(\n",
    "    Xt3,\n",
    "    roles = {\n",
    "        'target': 'Response',\n",
    "        'drop': ['id']\n",
    "    }, \n",
    "    verbose = 4\n",
    ")\n",
    "\n",
    "automl4_3 = TabularAutoML(\n",
    "    task = task,\n",
    "    timeout = 600 * 3600,\n",
    "    cpu_limit = 12,\n",
    "    general_params = {'use_algos':[['lgb']]},\n",
    "    selection_params ={'mode' : 0},\n",
    "    tuning_params = {'max_tuning_time': 0},\n",
    "    reader_params = {'n_jobs': 12, 'cv': 5, 'random_state': 42}\n",
    ")\n",
    "\n",
    "out_of_fold_predictions4_3 = automl4_3.fit_predict(\n",
    "    Xt4,\n",
    "    roles = {\n",
    "        'target': 'Response',\n",
    "        'drop': ['id']\n",
    "    }, \n",
    "    verbose = 4\n",
    ")\n",
    "\n",
    "val_predict1_3 = automl1_3.predict(Xv1)\n",
    "val_predict2_3 = automl2_3.predict(Xv2)\n",
    "val_predict3_3 = automl3_3.predict(Xv3)\n",
    "val_predict4_3 = automl4_3.predict(Xv4)\n",
    "\n",
    "y_pred3 = pd.Series(index=X_val.index)\n",
    "y_pred3.loc[Xv1.index] = val_predict1_3.data[:, 0]\n",
    "y_pred3.loc[Xv2.index] = val_predict2_3.data[:, 0]\n",
    "y_pred3.loc[Xv3.index] = val_predict3_3.data[:, 0]\n",
    "y_pred3.loc[Xv4.index] = val_predict4_3.data[:, 0]\n",
    "\n",
    "oof3 = pd.Series(index=X_train.index)\n",
    "oof3.loc[Xt1.index] = out_of_fold_predictions1_3.data[:, 0]\n",
    "oof3.loc[Xt2.index] = out_of_fold_predictions2_3.data[:, 0]\n",
    "oof3.loc[Xt3.index] = out_of_fold_predictions3_3.data[:, 0]\n",
    "oof3.loc[Xt4.index] = out_of_fold_predictions4_3.data[:, 0]\n",
    "\n",
    "\n",
    "if HOLDOUT:\n",
    "    roc_auc_score(X_val.Response, y_pred3.values)"
   ]
  },
  {
   "cell_type": "code",
   "execution_count": null,
   "metadata": {},
   "outputs": [],
   "source": [
    "roc_auc_score(X_train.Response, oof3)"
   ]
  },
  {
   "cell_type": "code",
   "execution_count": null,
   "metadata": {},
   "outputs": [],
   "source": [
    "import joblib"
   ]
  },
  {
   "cell_type": "code",
   "execution_count": null,
   "metadata": {},
   "outputs": [],
   "source": [
    "joblib.dump(\n",
    "    {'m1_full_train': automl,\n",
    "    'm2': {'Previously_Insured0': automl1, 'Previously_Insured1': automl2},\n",
    "    'm3': {'Vehicle_DamageY': automl1_1, 'Vehicle_DamageN':automl2_1},\n",
    "    'm4': {'PI0VDY': automl1_3, 'PI0VDN':automl2_3, 'PI1VDY':automl3_3, 'PI1VDN':automl4_3}},\n",
    "     'gbdts_blend.jbl')"
   ]
  },
  {
   "cell_type": "code",
   "execution_count": null,
   "metadata": {},
   "outputs": [],
   "source": [
    "# oofs_all = {'m1': out_of_fold_predictions1.data[:, 0], 'm2': oof1, 'm3': oof2, 'm4': oof3}\n",
    "# preds_all = {'m1': val_predict.data[:, 0], 'm2': y_pred.values, 'm3': y_pred2.values, 'm4': y_pred3.values}"
   ]
  },
  {
   "cell_type": "code",
   "execution_count": null,
   "metadata": {},
   "outputs": [],
   "source": [
    "# joblib.dump(oofs_all, 'oof.jbl')"
   ]
  },
  {
   "cell_type": "code",
   "execution_count": null,
   "metadata": {},
   "outputs": [],
   "source": [
    "# joblib.dump(preds_all, 'pred.jbl')"
   ]
  },
  {
   "cell_type": "code",
   "execution_count": null,
   "metadata": {},
   "outputs": [],
   "source": []
  }
 ],
 "metadata": {
  "kernelspec": {
   "display_name": "Python [conda env:root] *",
   "language": "python",
   "name": "conda-root-py"
  },
  "language_info": {
   "codemirror_mode": {
    "name": "ipython",
    "version": 3
   },
   "file_extension": ".py",
   "mimetype": "text/x-python",
   "name": "python",
   "nbconvert_exporter": "python",
   "pygments_lexer": "ipython3",
   "version": "3.9.18"
  }
 },
 "nbformat": 4,
 "nbformat_minor": 2
}
