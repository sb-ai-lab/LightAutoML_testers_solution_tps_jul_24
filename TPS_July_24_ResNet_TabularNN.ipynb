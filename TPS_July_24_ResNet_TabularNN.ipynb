{
 "cells": [
  {
   "cell_type": "code",
   "execution_count": 1,
   "id": "44af725a",
   "metadata": {},
   "outputs": [],
   "source": [
    "import os\n",
    "os.environ[\"CUDA_DEVICE_ORDER\"]=\"PCI_BUS_ID\"   # see issue #152\n",
    "os.environ[\"CUDA_VISIBLE_DEVICES\"]=\"1\""
   ]
  },
  {
   "cell_type": "code",
   "execution_count": 2,
   "id": "9ea4d624",
   "metadata": {
    "execution": {
     "iopub.execute_input": "2023-11-15T13:51:02.113786Z",
     "iopub.status.busy": "2023-11-15T13:51:02.113289Z",
     "iopub.status.idle": "2023-11-15T13:52:02.602973Z",
     "shell.execute_reply": "2023-11-15T13:52:02.601369Z"
    },
    "papermill": {
     "duration": 60.516835,
     "end_time": "2023-11-15T13:52:02.606867",
     "exception": false,
     "start_time": "2023-11-15T13:51:02.090032",
     "status": "completed"
    },
    "scrolled": false,
    "tags": []
   },
   "outputs": [
    {
     "name": "stdout",
     "output_type": "stream",
     "text": [
      "'nlp' extra dependecy package 'gensim' isn't installed. Look at README.md in repo 'LightAutoML' for installation instructions.\n",
      "'nlp' extra dependecy package 'gensim' isn't installed. Look at README.md in repo 'LightAutoML' for installation instructions.\n"
     ]
    },
    {
     "name": "stderr",
     "output_type": "stream",
     "text": [
      "/home/user/conda/lib/python3.9/site-packages/lightautoml/transformers/text.py:22: UserWarning: 'gensim' - package isn't installed\n",
      "  warnings.warn(\"'gensim' - package isn't installed\")\n"
     ]
    }
   ],
   "source": [
    "# Essential DS libraries\n",
    "import numpy as np\n",
    "import pandas as pd\n",
    "from sklearn.metrics import median_absolute_error, accuracy_score,roc_auc_score\n",
    "from sklearn.model_selection import train_test_split\n",
    "import torch\n",
    "import torch.nn as nn\n",
    "from torch.optim.lr_scheduler import ReduceLROnPlateau\n",
    "\n",
    "# LightAutoML presets, task and report generation\n",
    "from lightautoml.automl.presets.tabular_presets import TabularAutoML\n",
    "from lightautoml.tasks import Task"
   ]
  },
  {
   "cell_type": "code",
   "execution_count": 3,
   "id": "86932369",
   "metadata": {
    "execution": {
     "iopub.execute_input": "2023-11-15T13:52:02.651810Z",
     "iopub.status.busy": "2023-11-15T13:52:02.650726Z",
     "iopub.status.idle": "2023-11-15T13:52:02.665460Z",
     "shell.execute_reply": "2023-11-15T13:52:02.663739Z"
    },
    "papermill": {
     "duration": 0.040637,
     "end_time": "2023-11-15T13:52:02.668632",
     "exception": false,
     "start_time": "2023-11-15T13:52:02.627995",
     "status": "completed"
    },
    "tags": []
   },
   "outputs": [],
   "source": [
    "# utils\n",
    "\n",
    "def map_class(x, task, reader):\n",
    "    if task.name == 'multiclass':\n",
    "        return reader[x]\n",
    "    else:\n",
    "        return x\n",
    "\n",
    "mapped = np.vectorize(map_class)\n",
    "\n",
    "def score(task, y_true, y_pred):\n",
    "    if task.name == 'binary':\n",
    "        return roc_auc_score(y_true, y_pred)\n",
    "    elif task.name == 'multiclass':\n",
    "        return accuracy_score(y_true, np.argmax(y_pred, 1))\n",
    "    elif task.name == 'reg' or task.name == 'multi:reg':\n",
    "        return median_absolute_error(y_true, y_pred)\n",
    "    else:\n",
    "        raise 'Task is not correct.'\n",
    "        \n",
    "def take_pred_from_task(pred, task):\n",
    "    if task.name == 'binary' or task.name == 'reg':\n",
    "        return pred[:, 0]\n",
    "    elif task.name == 'multiclass' or task.name == 'multi:reg':\n",
    "        return pred\n",
    "    else:\n",
    "        raise 'Task is not correct.'\n",
    "        \n",
    "def use_plr(USE_PLR):\n",
    "    if USE_PLR:\n",
    "        return \"plr\"\n",
    "    else:\n",
    "        return \"cont\""
   ]
  },
  {
   "cell_type": "markdown",
   "id": "209fda6c",
   "metadata": {
    "papermill": {
     "duration": 0.021107,
     "end_time": "2023-11-15T13:52:02.711353",
     "exception": false,
     "start_time": "2023-11-15T13:52:02.690246",
     "status": "completed"
    },
    "tags": []
   },
   "source": [
    "### 0.2 Constants\n",
    "\n",
    "Here we setup the constants to use in the kernel:\n",
    "- `N_THREADS` - number of vCPUs for LightAutoML model creation\n",
    "- `N_FOLDS` - number of folds in LightAutoML inner CV\n",
    "- `RANDOM_STATE` - random seed for better reproducibility\n",
    "- `TEST_SIZE` - houldout data part size \n",
    "- `TIMEOUT` - limit in seconds for model to train\n",
    "- `TARGET_NAME` - target column name in dataset\n",
    "- `TASK` - task name, 'reg', 'binary', 'multiclass', 'multi:reg'\n",
    "- `ALGOS_FOR_BLEND` - algorithms used in blending\n",
    "- `USE_PLR` - if True use PLR embedder for continuous features, else Basic Embedder\n",
    "- `TRAIN_BS` - train batch size"
   ]
  },
  {
   "cell_type": "code",
   "execution_count": 4,
   "id": "61b1085b",
   "metadata": {},
   "outputs": [],
   "source": [
    "RANDOM_STATE = 42\n",
    "N_THREADS = 16"
   ]
  },
  {
   "cell_type": "code",
   "execution_count": 5,
   "id": "ab63317c",
   "metadata": {
    "execution": {
     "iopub.execute_input": "2023-11-15T13:52:02.759937Z",
     "iopub.status.busy": "2023-11-15T13:52:02.758894Z",
     "iopub.status.idle": "2023-11-15T13:52:02.772003Z",
     "shell.execute_reply": "2023-11-15T13:52:02.770871Z"
    },
    "papermill": {
     "duration": 0.040349,
     "end_time": "2023-11-15T13:52:02.775425",
     "exception": false,
     "start_time": "2023-11-15T13:52:02.735076",
     "status": "completed"
    },
    "tags": []
   },
   "outputs": [],
   "source": [
    "np.random.seed(RANDOM_STATE)\n",
    "torch.set_num_threads(N_THREADS)"
   ]
  },
  {
   "cell_type": "markdown",
   "id": "8e188954",
   "metadata": {
    "papermill": {
     "duration": 0.023074,
     "end_time": "2023-11-15T13:52:02.822731",
     "exception": false,
     "start_time": "2023-11-15T13:52:02.799657",
     "status": "completed"
    },
    "tags": []
   },
   "source": [
    "### 0.3 Data loading"
   ]
  },
  {
   "cell_type": "code",
   "execution_count": 6,
   "id": "8152835d",
   "metadata": {
    "execution": {
     "iopub.execute_input": "2023-11-15T13:52:02.866727Z",
     "iopub.status.busy": "2023-11-15T13:52:02.866200Z",
     "iopub.status.idle": "2023-11-15T13:52:03.377899Z",
     "shell.execute_reply": "2023-11-15T13:52:03.376300Z"
    },
    "papermill": {
     "duration": 0.537306,
     "end_time": "2023-11-15T13:52:03.381055",
     "exception": false,
     "start_time": "2023-11-15T13:52:02.843749",
     "status": "completed"
    },
    "tags": []
   },
   "outputs": [],
   "source": [
    "train = pd.read_csv('../input/playground-series-s4e7/train.csv')\n",
    "test = pd.read_csv('../input/playground-series-s4e7/test.csv')"
   ]
  },
  {
   "cell_type": "code",
   "execution_count": null,
   "id": "3bff420c",
   "metadata": {},
   "outputs": [],
   "source": [
    "#X_train, X_val = train_test_split(train, test_size=0.2, random_state=42, shuffle=True, stratify=train.Response)"
   ]
  },
  {
   "cell_type": "code",
   "execution_count": 16,
   "id": "6a67dc48",
   "metadata": {
    "_kg_hide-output": true,
    "execution": {
     "iopub.execute_input": "2023-11-15T13:52:28.576701Z",
     "iopub.status.busy": "2023-11-15T13:52:28.575802Z",
     "iopub.status.idle": "2023-11-15T14:01:34.509384Z",
     "shell.execute_reply": "2023-11-15T14:01:34.507879Z"
    },
    "papermill": {
     "duration": 545.963332,
     "end_time": "2023-11-15T14:01:34.512994",
     "exception": false,
     "start_time": "2023-11-15T13:52:28.549662",
     "status": "completed"
    },
    "scrolled": true,
    "tags": []
   },
   "outputs": [
    {
     "name": "stdout",
     "output_type": "stream",
     "text": [
      "[23:28:33] Stdout logging level is DEBUG.\n",
      "[23:28:33] Task: binary\n",
      "\n",
      "[23:28:33] Start automl preset with listed constraints:\n",
      "[23:28:33] - time: 2160000.00 seconds\n",
      "[23:28:33] - CPU: 16 cores\n",
      "[23:28:33] - memory: 16 GB\n",
      "\n",
      "[23:28:33] \u001b[1mTrain data shape: (11504798, 12)\u001b[0m\n",
      "\n",
      "[23:29:50] Feats was rejected during automatic roles guess: []\n",
      "[23:29:51] Layer \u001b[1m1\u001b[0m train process start. Time left 2159921.88 secs\n",
      "[23:30:17] number of text features: 0 \n",
      "[23:30:17] number of categorical features: 8 \n",
      "[23:30:17] number of continuous features: 2 \n",
      "[23:30:17] Start fitting \u001b[1mLvl_0_Pipe_0_Mod_0_TorchNN_resnet_0\u001b[0m ...\n",
      "[23:30:17] Training params: {'num_workers': 0, 'pin_memory': False, 'max_length': 256, 'is_snap': False, 'input_bn': False, 'max_emb_size': 256, 'bert_name': None, 'pooling': 'cls', 'device': device(type='cuda', index=0), 'use_cont': True, 'use_cat': True, 'use_text': False, 'lang': 'en', 'deterministic': True, 'multigpu': False, 'random_state': 42, 'model': 'resnet', 'model_with_emb': False, 'path_to_save': None, 'verbose_inside': None, 'verbose': 1, 'n_epochs': 10, 'snap_params': {'k': 2, 'early_stopping': True, 'patience': 1, 'swa': True}, 'bs': 1024, 'emb_dropout': 0.1, 'emb_ratio': 3, 'opt': 'Adam', 'opt_params': {'lr': 0.0003, 'weight_decay': 0}, 'sch': 'ReduceLROnPlateau', 'scheduler_params': {'patience': 5, 'factor': 0.5, 'min_lr': 1e-05}, 'loss': None, 'loss_params': {}, 'loss_on_logits': True, 'clip_grad': False, 'clip_grad_params': {}, 'init_bias': True, 'dataset': 'UniversalDataset', 'tuned': False, 'optimization_search_space': None, 'verbose_bar': True, 'freeze_defaults': True, 'n_out': 1, 'hid_factor': [3, 3], 'hidden_size': 32, 'block_config': [3, 3], 'compression': 0.5, 'growth_size': 256, 'bn_factor': 2, 'drop_rate': 0.1, 'noise_std': 0.05, 'num_init_features': None, 'act_fun': 'LeakyReLU', 'use_noise': False, 'use_bn': True, 'embedding_size': 32, 'cat_embedder': 'weighted', 'cont_embedder': 'plr', 'stop_by_metric': True, 'tuning_params': {'fit_on_holdout': True, 'max_tuning_iter': 25, 'max_tuning_time': 3600}, 'device_ids': None, 'num_dims': 2, 'text_features': [], 'bias': array([-1.96434774])}\n",
      "[23:30:18] ===== Start working with \u001b[1mfold 0\u001b[0m for \u001b[1mLvl_0_Pipe_0_Mod_0_TorchNN_resnet_0\u001b[0m =====\n"
     ]
    },
    {
     "name": "stderr",
     "output_type": "stream",
     "text": [
      "train (loss=0.246788): 100%|██████████| 8988/8988 [02:19<00:00, 64.50it/s]\n",
      "val: 100%|██████████| 2248/2248 [00:18<00:00, 119.14it/s]\n"
     ]
    },
    {
     "name": "stdout",
     "output_type": "stream",
     "text": [
      "[23:33:00] Epoch: 0, train loss: 0.24678844213485718, val loss: 0.24346543848514557, val metric: 0.8911400061785146\n"
     ]
    },
    {
     "name": "stderr",
     "output_type": "stream",
     "text": [
      "train (loss=0.241508): 100%|██████████| 8988/8988 [02:21<00:00, 63.53it/s]\n",
      "val: 100%|██████████| 2248/2248 [00:19<00:00, 114.66it/s]\n"
     ]
    },
    {
     "name": "stdout",
     "output_type": "stream",
     "text": [
      "[23:35:43] Epoch: 1, train loss: 0.241507887840271, val loss: 0.24279046058654785, val metric: 0.8919753141525005\n"
     ]
    },
    {
     "name": "stderr",
     "output_type": "stream",
     "text": [
      "train (loss=0.238391): 100%|██████████| 8988/8988 [02:19<00:00, 64.32it/s]\n",
      "val: 100%|██████████| 2248/2248 [00:19<00:00, 118.24it/s]\n"
     ]
    },
    {
     "name": "stdout",
     "output_type": "stream",
     "text": [
      "[23:38:24] Epoch: 2, train loss: 0.23839081823825836, val loss: 0.243117094039917, val metric: 0.8916653098394587\n"
     ]
    },
    {
     "name": "stderr",
     "output_type": "stream",
     "text": [
      "train (loss=0.235339): 100%|██████████| 8988/8988 [02:19<00:00, 64.59it/s]\n",
      "val: 100%|██████████| 2248/2248 [00:18<00:00, 119.18it/s]\n"
     ]
    },
    {
     "name": "stdout",
     "output_type": "stream",
     "text": [
      "[23:41:04] Epoch: 3, train loss: 0.23533868789672852, val loss: 0.2444336712360382, val metric: 0.8905892210645316\n"
     ]
    },
    {
     "name": "stderr",
     "output_type": "stream",
     "text": [
      "val: 100%|██████████| 2248/2248 [00:19<00:00, 116.76it/s]\n"
     ]
    },
    {
     "name": "stdout",
     "output_type": "stream",
     "text": [
      "[23:41:24] Early stopping: val loss: 0.24303872883319855, val metric: 0.8921534945779598\n",
      "[23:41:25] ===== Start working with \u001b[1mfold 1\u001b[0m for \u001b[1mLvl_0_Pipe_0_Mod_0_TorchNN_resnet_0\u001b[0m =====\n"
     ]
    },
    {
     "name": "stderr",
     "output_type": "stream",
     "text": [
      "train (loss=0.246764): 100%|██████████| 8988/8988 [02:18<00:00, 65.07it/s]\n",
      "val: 100%|██████████| 2248/2248 [00:19<00:00, 116.55it/s]\n"
     ]
    },
    {
     "name": "stdout",
     "output_type": "stream",
     "text": [
      "[23:44:06] Epoch: 0, train loss: 0.24676358699798584, val loss: 0.24399390816688538, val metric: 0.8906609580054621\n"
     ]
    },
    {
     "name": "stderr",
     "output_type": "stream",
     "text": [
      "train (loss=0.241349): 100%|██████████| 8988/8988 [02:20<00:00, 64.19it/s]\n",
      "val: 100%|██████████| 2248/2248 [00:21<00:00, 105.41it/s]\n"
     ]
    },
    {
     "name": "stdout",
     "output_type": "stream",
     "text": [
      "[23:46:50] Epoch: 1, train loss: 0.24134935438632965, val loss: 0.2429862767457962, val metric: 0.8917594680569424\n"
     ]
    },
    {
     "name": "stderr",
     "output_type": "stream",
     "text": [
      "train (loss=0.238197): 100%|██████████| 8988/8988 [02:18<00:00, 64.73it/s]\n",
      "val: 100%|██████████| 2248/2248 [00:19<00:00, 116.62it/s]\n"
     ]
    },
    {
     "name": "stdout",
     "output_type": "stream",
     "text": [
      "[23:49:30] Epoch: 2, train loss: 0.2381965070962906, val loss: 0.24393628537654877, val metric: 0.8910642385329873\n"
     ]
    },
    {
     "name": "stderr",
     "output_type": "stream",
     "text": [
      "train (loss=0.235018): 100%|██████████| 8988/8988 [02:19<00:00, 64.28it/s]\n",
      "val: 100%|██████████| 2248/2248 [00:19<00:00, 117.18it/s]\n"
     ]
    },
    {
     "name": "stdout",
     "output_type": "stream",
     "text": [
      "[23:52:10] Epoch: 3, train loss: 0.23501770198345184, val loss: 0.24468950927257538, val metric: 0.8902007340473052\n"
     ]
    },
    {
     "name": "stderr",
     "output_type": "stream",
     "text": [
      "val: 100%|██████████| 2248/2248 [00:19<00:00, 117.65it/s]\n"
     ]
    },
    {
     "name": "stdout",
     "output_type": "stream",
     "text": [
      "[23:52:30] Early stopping: val loss: 0.24296553432941437, val metric: 0.8919649752358129\n",
      "[23:52:32] ===== Start working with \u001b[1mfold 2\u001b[0m for \u001b[1mLvl_0_Pipe_0_Mod_0_TorchNN_resnet_0\u001b[0m =====\n"
     ]
    },
    {
     "name": "stderr",
     "output_type": "stream",
     "text": [
      "train (loss=0.246781): 100%|██████████| 8988/8988 [02:18<00:00, 64.67it/s]\n",
      "val: 100%|██████████| 2248/2248 [00:19<00:00, 118.31it/s]\n"
     ]
    },
    {
     "name": "stdout",
     "output_type": "stream",
     "text": [
      "[23:55:14] Epoch: 0, train loss: 0.24678124487400055, val loss: 0.24390952289104462, val metric: 0.8911557517701804\n"
     ]
    },
    {
     "name": "stderr",
     "output_type": "stream",
     "text": [
      "train (loss=0.241509): 100%|██████████| 8988/8988 [02:19<00:00, 64.36it/s]\n",
      "val: 100%|██████████| 2248/2248 [00:19<00:00, 116.83it/s]\n"
     ]
    },
    {
     "name": "stdout",
     "output_type": "stream",
     "text": [
      "[23:57:54] Epoch: 1, train loss: 0.24150875210762024, val loss: 0.24298882484436035, val metric: 0.8917952868761624\n"
     ]
    },
    {
     "name": "stderr",
     "output_type": "stream",
     "text": [
      "train (loss=0.2384): 100%|██████████| 8988/8988 [02:19<00:00, 64.29it/s]  \n",
      "val: 100%|██████████| 2248/2248 [00:20<00:00, 111.83it/s]\n"
     ]
    },
    {
     "name": "stdout",
     "output_type": "stream",
     "text": [
      "[00:00:36] Epoch: 2, train loss: 0.23840022087097168, val loss: 0.24384869635105133, val metric: 0.8913276528881166\n"
     ]
    },
    {
     "name": "stderr",
     "output_type": "stream",
     "text": [
      "train (loss=0.235211): 100%|██████████| 8988/8988 [02:20<00:00, 63.82it/s]\n",
      "val: 100%|██████████| 2248/2248 [00:21<00:00, 103.71it/s]\n"
     ]
    },
    {
     "name": "stdout",
     "output_type": "stream",
     "text": [
      "[00:03:21] Epoch: 3, train loss: 0.23521116375923157, val loss: 0.24462831020355225, val metric: 0.8903766390463288\n"
     ]
    },
    {
     "name": "stderr",
     "output_type": "stream",
     "text": [
      "val: 100%|██████████| 2248/2248 [00:22<00:00, 101.35it/s]\n"
     ]
    },
    {
     "name": "stdout",
     "output_type": "stream",
     "text": [
      "[00:03:44] Early stopping: val loss: 0.24271894991397858, val metric: 0.8921073082946871\n",
      "[00:03:45] ===== Start working with \u001b[1mfold 3\u001b[0m for \u001b[1mLvl_0_Pipe_0_Mod_0_TorchNN_resnet_0\u001b[0m =====\n"
     ]
    },
    {
     "name": "stderr",
     "output_type": "stream",
     "text": [
      "train (loss=0.246781): 100%|██████████| 8988/8988 [02:18<00:00, 64.69it/s]\n",
      "val: 100%|██████████| 2248/2248 [00:19<00:00, 116.40it/s]\n"
     ]
    },
    {
     "name": "stdout",
     "output_type": "stream",
     "text": [
      "[00:06:28] Epoch: 0, train loss: 0.24678130447864532, val loss: 0.24393628537654877, val metric: 0.8910578619601361\n"
     ]
    },
    {
     "name": "stderr",
     "output_type": "stream",
     "text": [
      "train (loss=0.241572): 100%|██████████| 8988/8988 [02:19<00:00, 64.45it/s]\n",
      "val: 100%|██████████| 2248/2248 [00:19<00:00, 116.09it/s]\n"
     ]
    },
    {
     "name": "stdout",
     "output_type": "stream",
     "text": [
      "[00:09:08] Epoch: 1, train loss: 0.2415715754032135, val loss: 0.24297769367694855, val metric: 0.8917044997968594\n"
     ]
    },
    {
     "name": "stderr",
     "output_type": "stream",
     "text": [
      "train (loss=0.238498): 100%|██████████| 8988/8988 [02:20<00:00, 64.00it/s]\n",
      "val: 100%|██████████| 2248/2248 [00:19<00:00, 117.34it/s]\n"
     ]
    },
    {
     "name": "stdout",
     "output_type": "stream",
     "text": [
      "[00:11:50] Epoch: 2, train loss: 0.23849816620349884, val loss: 0.2435457557439804, val metric: 0.8915355754320355\n"
     ]
    },
    {
     "name": "stderr",
     "output_type": "stream",
     "text": [
      "train (loss=0.235405): 100%|██████████| 8988/8988 [02:18<00:00, 64.93it/s]\n",
      "val: 100%|██████████| 2248/2248 [00:19<00:00, 116.99it/s]\n"
     ]
    },
    {
     "name": "stdout",
     "output_type": "stream",
     "text": [
      "[00:14:29] Epoch: 3, train loss: 0.2354053407907486, val loss: 0.24439331889152527, val metric: 0.8906069704445752\n"
     ]
    },
    {
     "name": "stderr",
     "output_type": "stream",
     "text": [
      "val: 100%|██████████| 2248/2248 [00:19<00:00, 115.30it/s]\n"
     ]
    },
    {
     "name": "stdout",
     "output_type": "stream",
     "text": [
      "[00:14:50] Early stopping: val loss: 0.24281984567642212, val metric: 0.8921339759941309\n",
      "[00:14:51] ===== Start working with \u001b[1mfold 4\u001b[0m for \u001b[1mLvl_0_Pipe_0_Mod_0_TorchNN_resnet_0\u001b[0m =====\n"
     ]
    },
    {
     "name": "stderr",
     "output_type": "stream",
     "text": [
      "train (loss=0.246933): 100%|██████████| 8988/8988 [02:19<00:00, 64.48it/s]\n",
      "val: 100%|██████████| 2248/2248 [00:19<00:00, 117.11it/s]\n"
     ]
    },
    {
     "name": "stdout",
     "output_type": "stream",
     "text": [
      "[00:17:33] Epoch: 0, train loss: 0.2469332218170166, val loss: 0.24311769008636475, val metric: 0.8917394439176244\n"
     ]
    },
    {
     "name": "stderr",
     "output_type": "stream",
     "text": [
      "train (loss=0.241611): 100%|██████████| 8988/8988 [02:18<00:00, 65.00it/s]\n",
      "val: 100%|██████████| 2248/2248 [00:18<00:00, 119.48it/s]\n"
     ]
    },
    {
     "name": "stdout",
     "output_type": "stream",
     "text": [
      "[00:20:12] Epoch: 1, train loss: 0.24161118268966675, val loss: 0.24348661303520203, val metric: 0.8924347019044865\n"
     ]
    },
    {
     "name": "stderr",
     "output_type": "stream",
     "text": [
      "train (loss=0.238347): 100%|██████████| 8988/8988 [02:19<00:00, 64.65it/s]\n",
      "val: 100%|██████████| 2248/2248 [00:18<00:00, 118.82it/s]\n"
     ]
    },
    {
     "name": "stdout",
     "output_type": "stream",
     "text": [
      "[00:22:52] Epoch: 2, train loss: 0.23834727704524994, val loss: 0.24314239621162415, val metric: 0.8918363504152836\n"
     ]
    },
    {
     "name": "stderr",
     "output_type": "stream",
     "text": [
      "train (loss=0.234959): 100%|██████████| 8988/8988 [02:18<00:00, 64.66it/s]\n",
      "val: 100%|██████████| 2248/2248 [00:19<00:00, 117.53it/s]\n"
     ]
    },
    {
     "name": "stdout",
     "output_type": "stream",
     "text": [
      "[00:25:32] Epoch: 3, train loss: 0.23495908081531525, val loss: 0.24437564611434937, val metric: 0.8906467689043878\n"
     ]
    },
    {
     "name": "stderr",
     "output_type": "stream",
     "text": [
      "val: 100%|██████████| 2248/2248 [00:19<00:00, 117.40it/s]\n"
     ]
    },
    {
     "name": "stdout",
     "output_type": "stream",
     "text": [
      "[00:25:52] Early stopping: val loss: 0.2423781007528305, val metric: 0.8926402886498171\n",
      "[00:25:58] Fitting \u001b[1mLvl_0_Pipe_0_Mod_0_TorchNN_resnet_0\u001b[0m finished. score = \u001b[1m0.8920865559193433\u001b[0m\n",
      "[00:25:58] \u001b[1mLvl_0_Pipe_0_Mod_0_TorchNN_resnet_0\u001b[0m fitting and predicting completed\n",
      "[00:25:58] Time left 2156555.13 secs\n",
      "\n",
      "[00:25:58] \u001b[1mLayer 1 training completed.\u001b[0m\n",
      "\n",
      "[00:25:58] \u001b[1mAutoml preset training completed in 3444.97 seconds\u001b[0m\n",
      "\n",
      "[00:25:58] Model description:\n",
      "Final prediction for new objects (level 0) = \n",
      "\t 1.00000 * (5 averaged models Lvl_0_Pipe_0_Mod_0_TorchNN_resnet_0) \n",
      "\n"
     ]
    }
   ],
   "source": [
    "task = Task('binary') \n",
    "automl = TabularAutoML(\n",
    "    task = task, \n",
    "    timeout = 600 * 3600,\n",
    "    cpu_limit = 16,\n",
    "    general_params = {\"use_algos\": [['resnet']]}, # ['nn', 'mlp', 'dense', 'denselight', 'resnet', 'snn', 'node', 'autoint', 'fttransformer'] or custom torch model\n",
    "    nn_params = {\n",
    "        \"n_epochs\": 10, \n",
    "        \"bs\": 1024, \n",
    "        \"num_workers\": 0, \n",
    "        \"path_to_save\": None, \n",
    "        \"freeze_defaults\": True,\n",
    "        \"cont_embedder\": 'plr',\n",
    "        'cat_embedder': 'weighted',\n",
    "        \"hidden_size\": 32,\n",
    "        'hid_factor': [3, 3],\n",
    "        'block_config': [3, 3],\n",
    "        'embedding_size': 32,\n",
    "        'stop_by_metric': True,\n",
    "        'verbose_bar': True,\n",
    "        \"snap_params\": { 'k': 2, 'early_stopping': True, 'patience': 1, 'swa': True }\n",
    "    },\n",
    "    nn_pipeline_params = {\"use_qnt\": False, \"use_te\": False},\n",
    "    reader_params = {'n_jobs': 16, 'cv': 5, 'random_state': 42, 'advanced_roles': True}\n",
    ")\n",
    "\n",
    "out_of_fold_predictions = automl.fit_predict(\n",
    "    train, #valid_data=X_val,\n",
    "    roles = {\n",
    "        'target': 'Response',\n",
    "        'drop': ['id']\n",
    "    }, \n",
    "    verbose = 4\n",
    ")"
   ]
  },
  {
   "cell_type": "code",
   "execution_count": 17,
   "id": "3f88f739",
   "metadata": {},
   "outputs": [
    {
     "data": {
      "text/plain": [
       "0.8920865559193433"
      ]
     },
     "execution_count": 17,
     "metadata": {},
     "output_type": "execute_result"
    }
   ],
   "source": [
    "roc_auc_score(train.Response, out_of_fold_predictions.data)"
   ]
  },
  {
   "cell_type": "code",
   "execution_count": 18,
   "id": "1aac5be6",
   "metadata": {},
   "outputs": [
    {
     "name": "stderr",
     "output_type": "stream",
     "text": [
      "test: 100%|██████████| 7491/7491 [00:43<00:00, 171.50it/s]\n",
      "test: 100%|██████████| 7491/7491 [00:43<00:00, 171.46it/s]\n",
      "test: 100%|██████████| 7491/7491 [00:43<00:00, 173.92it/s]\n",
      "test: 100%|██████████| 7491/7491 [00:43<00:00, 170.76it/s]\n",
      "test: 100%|██████████| 7491/7491 [00:43<00:00, 172.84it/s]\n"
     ]
    }
   ],
   "source": [
    "pred = automl.predict(test)"
   ]
  },
  {
   "cell_type": "code",
   "execution_count": 19,
   "id": "149139ea",
   "metadata": {},
   "outputs": [
    {
     "data": {
      "text/plain": [
       "['resnet_5fold_model_089208.jbl']"
      ]
     },
     "execution_count": 19,
     "metadata": {},
     "output_type": "execute_result"
    }
   ],
   "source": [
    "import joblib\n",
    "joblib.dump((out_of_fold_predictions.data[:, 0], pred.data[:, 0]), 'resnet_5fold_oof_test_089208.jbl')\n",
    "joblib.dump(automl, 'resnet_5fold_model_089208.jbl')"
   ]
  }
 ],
 "metadata": {
  "kaggle": {
   "accelerator": "none",
   "dataSources": [
    {
     "databundleVersionId": 6989718,
     "sourceId": 60892,
     "sourceType": "competition"
    },
    {
     "datasetId": 3815527,
     "sourceId": 6612067,
     "sourceType": "datasetVersion"
    },
    {
     "datasetId": 3985804,
     "sourceId": 6940442,
     "sourceType": "datasetVersion"
    }
   ],
   "dockerImageVersionId": 30579,
   "isGpuEnabled": false,
   "isInternetEnabled": true,
   "language": "python",
   "sourceType": "notebook"
  },
  "kernelspec": {
   "display_name": "Python [conda env:root] *",
   "language": "python",
   "name": "conda-root-py"
  },
  "language_info": {
   "codemirror_mode": {
    "name": "ipython",
    "version": 3
   },
   "file_extension": ".py",
   "mimetype": "text/x-python",
   "name": "python",
   "nbconvert_exporter": "python",
   "pygments_lexer": "ipython3",
   "version": "3.9.18"
  },
  "papermill": {
   "default_parameters": {},
   "duration": 10466.178192,
   "end_time": "2023-11-15T16:44:45.056445",
   "environment_variables": {},
   "exception": null,
   "input_path": "__notebook__.ipynb",
   "output_path": "__notebook__.ipynb",
   "parameters": {},
   "start_time": "2023-11-15T13:50:18.878253",
   "version": "2.4.0"
  }
 },
 "nbformat": 4,
 "nbformat_minor": 5
}
